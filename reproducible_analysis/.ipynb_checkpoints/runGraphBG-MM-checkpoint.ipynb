{
 "cells": [
  {
   "cell_type": "code",
   "execution_count": null,
   "id": "b62b1a7e-83a9-47e7-9700-0e2e002446da",
   "metadata": {},
   "outputs": [],
   "source": [
    "from numpy.random import default_rng\n",
    "import scanpy as sc\n",
    "# import squidpy as sq\n",
    "from anndata import AnnData\n",
    "import scipy\n",
    "# sc.logging.print_header()\n",
    "from sklearn.metrics.cluster import adjusted_rand_score\n",
    "import numpy as np\n",
    "import pandas as pd\n",
    "import seaborn as sns\n",
    "import os\n",
    "import torch\n",
    "import pandas as pd\n",
    "import scanpy as sc\n",
    "from sklearn import metrics\n",
    "import multiprocessing as mp\n",
    "from sklearn.metrics.cluster import normalized_mutual_info_score"
   ]
  },
  {
   "cell_type": "code",
   "execution_count": null,
   "id": "a78f494e-499a-4679-8c0a-ff55ad2c0838",
   "metadata": {},
   "outputs": [],
   "source": [
    "%load_ext autoreload\n",
    "%autoreload 2"
   ]
  },
  {
   "cell_type": "code",
   "execution_count": null,
   "id": "a2812be8-32d7-4930-9377-96be0b01b77a",
   "metadata": {},
   "outputs": [],
   "source": [
    "slice_id = 'SpatialGlue'\n",
    "adata=sc.read_h5ad('/data/hoan/spatial_transcriptomics/data/SpatialGlue/Human_Lymph_Node/adata_all_human_lymph_node_A1.h5ad')\n",
    "file_pickle = 'Data/'+slice_id+'.pickle'"
   ]
  },
  {
   "cell_type": "code",
   "execution_count": null,
   "id": "3f557074-8fb6-43c8-8084-aebb64bebd67",
   "metadata": {},
   "outputs": [],
   "source": [
    "true_annotation = pd.read_csv(\"/data/hoan/spatial_transcriptomics/data/SpatialGlue/Human_Lymph_Node/annotation.csv\")\n",
    "# true_annotation.head(2)"
   ]
  },
  {
   "cell_type": "code",
   "execution_count": null,
   "id": "79a1f78f-8a4e-4a5d-8971-b243c5f142c2",
   "metadata": {},
   "outputs": [],
   "source": [
    "true_annotation.replace('medulla sinuses', 'medulla', inplace = True)\n",
    "true_annotation.replace('medulla cords', 'medulla', inplace = True)\n",
    "true_annotation.replace('medulla vessels', 'medulla', inplace = True)"
   ]
  },
  {
   "cell_type": "code",
   "execution_count": null,
   "id": "ceb8b0b9-47bb-41b8-b559-7ef3e62bffee",
   "metadata": {},
   "outputs": [],
   "source": [
    "df_spatial = pd.DataFrame(adata.obsm['spatial'])\n",
    "true_labels = pd.factorize(true_annotation['manual-anno'])[0]\n",
    "df_spatial['region'] = true_annotation['manual-anno']\n",
    "df_spatial['origi'] = pd.factorize(adata.obs['label_new'])[0]\n",
    "df_spatial.columns = ['x', 'y', 'region', 'origi']\n",
    "import matplotlib.pyplot as plt\n",
    "f, axes = plt.subplots(1, 2, figsize=(8, 4))\n",
    "# ax = sns.scatterplot(x=\"x\", y=\"y\", hue = 'region',s = 15,  data=df_spatial, palette=\"tab10\")\n",
    "sns.scatterplot(x=\"x\", y=\"y\", hue = 'region',s = 15,  data=df_spatial, palette=\"tab10\", ax = axes[0])\n",
    "sns.scatterplot(x=\"x\", y=\"y\", hue = 'origi',s = 15,  data=df_spatial, palette=\"tab10\", ax = axes[1])\n",
    "# ax.set_title(\"Human Lymph Node: Ground truth\")\n",
    "# ax.legend(loc='center right', bbox_to_anchor=(1.55, 0.5), ncol=1)\n",
    "plt.show()"
   ]
  },
  {
   "cell_type": "code",
   "execution_count": null,
   "id": "093c6230-e2ff-4d74-b5b3-fd9b92342b24",
   "metadata": {},
   "outputs": [],
   "source": [
    "if np.min(true_labels) >= 0:\n",
    "    n_clusters = len(np.unique(true_labels))\n",
    "else:\n",
    "    n_clusters = len(np.unique(true_labels)) - 1\n",
    "n_clusters"
   ]
  },
  {
   "cell_type": "markdown",
   "id": "5d7325de-c6da-4b19-99d9-3898ef45c4ae",
   "metadata": {},
   "source": [
    "## Data analysis"
   ]
  },
  {
   "cell_type": "code",
   "execution_count": null,
   "id": "7da8f685-3996-4b50-81fa-830060d43dc2",
   "metadata": {
    "tags": []
   },
   "outputs": [],
   "source": [
    "from sklearn.decomposition import PCA\n",
    "# from GraphST.utils import refine_label\n",
    "from sklearn.preprocessing import StandardScaler\n",
    "# from GraphST.utils import mclust_R\n",
    "import numpy as np\n",
    "from numpy import dot, array\n",
    "from sklearn.cross_decomposition import CCA\n",
    "from sklearn.preprocessing import StandardScaler\n",
    "from sklearn.neighbors import kneighbors_graph"
   ]
  },
  {
   "cell_type": "code",
   "execution_count": null,
   "id": "a5f16144-dc8c-4f7b-a4cf-9cabfd79ef59",
   "metadata": {},
   "outputs": [],
   "source": [
    "print(adjusted_rand_score(true_annotation['manual-anno'], adata.obs['SpatialGlue']))\n",
    "print(normalized_mutual_info_score(true_annotation['manual-anno'], adata.obs['SpatialGlue']))\n",
    "\n",
    "print(adjusted_rand_score(true_annotation['manual-anno'], adata.obs['totalVI']))\n",
    "print(normalized_mutual_info_score(true_annotation['manual-anno'], adata.obs['totalVI']))"
   ]
  },
  {
   "cell_type": "code",
   "execution_count": null,
   "id": "fead3c3b-e058-4f66-8ca0-3cd36f76643e",
   "metadata": {},
   "outputs": [],
   "source": [
    "embedding = adata.obsm['RNA_feat']\n",
    "n_neighbors = 3\n",
    "connectivity = kneighbors_graph(adata.obsm['spatial'], n_neighbors=n_neighbors, include_self=False)\n",
    "# make connectivity symmetric\n",
    "connectivity = 0.5 * (connectivity + connectivity.T)\n",
    "embedding_RNA = connectivity.dot(embedding)\n",
    "\n",
    "embedding = adata.obsm['Pro_feat']\n",
    "connectivity = kneighbors_graph(adata.obsm['spatial'], n_neighbors=n_neighbors, include_self=False)\n",
    "# make connectivity symmetric\n",
    "connectivity = 0.5 * (connectivity + connectivity.T)\n",
    "embedding_Pro = connectivity.dot(embedding)\n",
    "\n",
    "pca = PCA(n_components=2, random_state=42) \n",
    "RNA_pca_embedding = pca.fit_transform(embedding_RNA)\n",
    "\n",
    "pca = PCA(n_components=2, random_state=42) \n",
    "Pro_pca_embedding = pca.fit_transform(embedding_Pro)\n",
    "\n",
    "# Standardize the data\n",
    "scaler_a = StandardScaler()\n",
    "scaler_b = StandardScaler()\n",
    "\n",
    "data_a_train = scaler_a.fit_transform(embedding_RNA)\n",
    "data_b_train = scaler_b.fit_transform(embedding_Pro)\n",
    "\n",
    "# Define and train the CCA model\n",
    "n_components = 5  # Number of canonical components\n",
    "cca = CCA(n_components=n_components)\n",
    "cca.fit(data_a_train, data_b_train)\n",
    "\n",
    "#adata.obsm['emb_pca'] = np.concatenate((embedding_RNA/np.linalg.norm(embedding_RNA), embedding_Pro), axis=1)"
   ]
  },
  {
   "cell_type": "code",
   "execution_count": null,
   "id": "952a9020-727d-483e-82f0-3f7544bf63f7",
   "metadata": {},
   "outputs": [],
   "source": [
    "### SOTA\n",
    "n_clusters = 6\n",
    "from sklearn.mixture import BayesianGaussianMixture\n",
    "from mvlearn.datasets import load_UCImultifeature\n",
    "from mvlearn.embed import GCCA\n",
    "# gcca = GCCA(n_components = 20)\n",
    "# Xs_latents = gcca.fit_transform(Xs)\n",
    "\n",
    "from mvlearn.plotting import crossviews_plot\n",
    "from mvlearn.embed import DCCA\n",
    "from mvlearn.embed import MCCA\n",
    "from mvlearn.embed import KMCCA\n",
    "\n",
    "# Xs = [data_a_train, data_b_train] # multiview data\n",
    "Xs = [data_a_train-data_a_train.min(), data_b_train-data_b_train.min()] # multiview data\n",
    "# mcca = MCCA(n_components = 20, regs = 1)\n",
    "mcca = KMCCA(n_components = 20, kernel = 'poly', regs = 0)\n",
    "mcca.fit(Xs)\n",
    "# MCCA()\n",
    "Xs_latents = mcca.transform(Xs)\n",
    "adata.obsm['emb_pca'] = np.concatenate((Xs_latents[0,:,:], Xs_latents[1,:,:]), axis=1)\n",
    "gmm = BayesianGaussianMixture(n_components=n_clusters, covariance_type='full', random_state=42, init_params = 'random_from_data', n_init = 5, max_iter = 1000)\n",
    "# gmm.means_init = np.array([embedding[initial_labels == i].mean(axis=0) for i in range(n_clusters)])\n",
    "# Step 4: Fit GMM\n",
    "gmm.fit(adata.obsm['emb_pca'])\n",
    "cluster_labels = gmm.predict(adata.obsm['emb_pca'])\n",
    "adata.obs['domain'] = cluster_labels\n",
    "print(adjusted_rand_score(true_labels[true_labels>=0], adata.obs['domain'][true_labels>=0]))\n",
    "print(normalized_mutual_info_score(true_labels[true_labels>=0], adata.obs['domain'][true_labels>=0]))\n",
    "# 0.577826299329979\n",
    "# 0.4273131900468386"
   ]
  }
 ],
 "metadata": {
  "kernelspec": {
   "display_name": "Python pygnn",
   "language": "python",
   "name": "pygnn"
  },
  "language_info": {
   "codemirror_mode": {
    "name": "ipython",
    "version": 3
   },
   "file_extension": ".py",
   "mimetype": "text/x-python",
   "name": "python",
   "nbconvert_exporter": "python",
   "pygments_lexer": "ipython3",
   "version": "3.8.20"
  }
 },
 "nbformat": 4,
 "nbformat_minor": 5
}
