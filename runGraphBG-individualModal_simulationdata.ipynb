{
 "cells": [
  {
   "cell_type": "code",
   "execution_count": 1,
   "id": "e22024a6-ecb6-4e28-b32b-ce3a05717364",
   "metadata": {},
   "outputs": [
    {
     "name": "stderr",
     "output_type": "stream",
     "text": [
      "/home/vanhoan310/miniconda3/envs/gnn/lib/python3.8/site-packages/tqdm/auto.py:22: TqdmWarning: IProgress not found. Please update jupyter and ipywidgets. See https://ipywidgets.readthedocs.io/en/stable/user_install.html\n",
      "  from .autonotebook import tqdm as notebook_tqdm\n"
     ]
    },
    {
     "name": "stdout",
     "output_type": "stream",
     "text": [
      "scanpy==1.9.1 anndata==0.9.2 umap==0.5.7 numpy==1.24.4 scipy==1.8.1 pandas==1.4.2 scikit-learn==1.1.1 statsmodels==0.14.1 python-igraph==0.11.8 pynndescent==0.5.13\n"
     ]
    }
   ],
   "source": [
    "from numpy.random import default_rng\n",
    "import scanpy as sc\n",
    "from anndata import AnnData\n",
    "import scipy\n",
    "sc.logging.print_header()\n",
    "from sklearn.metrics.cluster import adjusted_rand_score\n",
    "import numpy as np\n",
    "import pandas as pd\n",
    "import seaborn as sns\n",
    "import os\n",
    "import torch\n",
    "import pandas as pd\n",
    "from sklearn import metrics\n",
    "import multiprocessing as mp\n",
    "from sklearn.metrics.cluster import normalized_mutual_info_score\n",
    "import pickle\n",
    "import os.path\n",
    "from sklearn.decomposition import PCA\n",
    "from sklearn.preprocessing import StandardScaler\n",
    "from sklearn.metrics.cluster import adjusted_rand_score, normalized_mutual_info_score, homogeneity_score, completeness_score"
   ]
  },
  {
   "cell_type": "code",
   "execution_count": 2,
   "id": "fb25adc6-a568-4d90-8fbc-39aaaa1339fc",
   "metadata": {},
   "outputs": [],
   "source": [
    "# scanpy==1.9.1 anndata==0.9.2 umap==0.5.7 numpy==1.24.4 scipy==1.8.1 pandas==1.4.2 scikit-learn==1.1.1 statsmodels==0.14.1\n",
    "# python-igraph==0.11.8 pynndescent==0.5.13"
   ]
  },
  {
   "cell_type": "markdown",
   "id": "25a5c491-4bf7-442e-9bda-69cf1ef2f596",
   "metadata": {},
   "source": [
    "## Read data"
   ]
  },
  {
   "cell_type": "code",
   "execution_count": null,
   "id": "9777b35d-68e9-4118-9601-814190cc9293",
   "metadata": {},
   "outputs": [],
   "source": [
    "# Read data\n",
    "data_name = 'CBMCs_nCells_1002_nGenes_100_'\n",
    "data_name_list = ['CBMCs_nCells_1002_nGenes_100_', 'CBMCs_nCells_1992_nGenes_1000_','CBMCs_nCells_5024_nGenes_100_', 'CBMCs_nCells_5024_nGenes_1000_']\n",
    "RNA_counts = pd.read_csv('/data/hoan/spatial_transcriptomics/GraphBGM/Data/scDesign3/'+data_name +'RNA.csv', delimiter=',')\n",
    "ADT_counts = pd.read_csv('/data/hoan/spatial_transcriptomics/GraphBGM/Data/scDesign3/'+data_name +'ADT.csv', delimiter=',')\n",
    "metadata =pd.read_csv('/data/hoan/spatial_transcriptomics/GraphBGM/Data/scDesign3/'+data_name +'metadata.csv', delimiter=',') \n",
    "# Duplicate\n",
    "RNA_counts = pd.concat([RNA_counts.copy().add_suffix(f'_{i+1}') for i in range(10)], axis=1)\n",
    "# ADT_counts = pd.concat([ADT_counts.copy().add_suffix(f'_{i+1}') for i in range(10)], axis=1)"
   ]
  },
  {
   "cell_type": "code",
   "execution_count": 15,
   "id": "975eaee8-c281-441f-a321-31e16b486336",
   "metadata": {},
   "outputs": [],
   "source": [
    "true_labels = metadata['label'].values"
   ]
  },
  {
   "cell_type": "code",
   "execution_count": 10,
   "id": "84265408-dcb9-4fce-8200-f16b96ed0368",
   "metadata": {},
   "outputs": [],
   "source": [
    "# Create anndata obj\n",
    "adata_omics1 = AnnData(RNA_counts.values, obsm={\"spatial\": metadata.iloc[:,2:4].values}, uns={\"spatial\": metadata.iloc[:,2:4].values})\n",
    "adata_omics1.obs_names = [f\"Cell_{i:d}\" for i in range(adata_omics1.n_obs)]\n",
    "adata_omics1.var_names = list(RNA_counts.columns.values)\n",
    "adata_omics2 = AnnData(ADT_counts.values, obsm={\"spatial\": metadata.iloc[:,2:4].values}, uns={\"spatial\": metadata.iloc[:,2:4].values})\n",
    "adata_omics2.obs_names = [f\"Cell_{i:d}\" for i in range(adata_omics1.n_obs)]\n",
    "adata_omics2.var_names = list(ADT_counts.columns.values)\n",
    "adata_omics2.obsm['raw'] = adata_omics2.X"
   ]
  },
  {
   "cell_type": "markdown",
   "id": "30bf3cb6-6a4b-401e-ac04-fd236004d9e8",
   "metadata": {},
   "source": [
    "## Preprocessing data"
   ]
  },
  {
   "cell_type": "code",
   "execution_count": 11,
   "id": "86a7aa0b-cec2-4df4-8197-3ec937d2a0a0",
   "metadata": {},
   "outputs": [],
   "source": [
    "n_features = adata_omics1.shape[1]\n",
    "if n_features > 5000:\n",
    "    sc.pp.highly_variable_genes(adata_omics1, flavor=\"seurat_v3\", n_top_genes=3000)\n",
    "sc.pp.normalize_total(adata_omics1, target_sum=1e4)\n",
    "sc.pp.log1p(adata_omics1)\n",
    "sc.pp.scale(adata_omics1, zero_center=False, max_value=10)\n",
    "if n_features > 5000:\n",
    "    adata_omics1 =  adata_omics1[:, adata.var['highly_variable']]"
   ]
  },
  {
   "cell_type": "code",
   "execution_count": 12,
   "id": "17a6b3ca-c65b-4751-bb80-21a045e50892",
   "metadata": {},
   "outputs": [],
   "source": [
    "## Perform PCA\n",
    "sc.tl.pca(adata_omics1, n_comps=20)"
   ]
  },
  {
   "cell_type": "markdown",
   "id": "4724dae0-28c8-417f-bd78-d915563a0fb6",
   "metadata": {},
   "source": [
    "## Run GraphGB and visualization"
   ]
  },
  {
   "cell_type": "code",
   "execution_count": 13,
   "id": "37ca383e-d327-4337-87d6-005aedd33e55",
   "metadata": {},
   "outputs": [],
   "source": [
    "%load_ext autoreload\n",
    "%autoreload 2"
   ]
  },
  {
   "cell_type": "code",
   "execution_count": null,
   "id": "dfbf17f6-4c68-4978-b51e-ee1849bff94f",
   "metadata": {},
   "outputs": [
    {
     "name": "stdout",
     "output_type": "stream",
     "text": [
      "tied ward\n",
      "Data input shape n:  (1992, 20)\n"
     ]
    }
   ],
   "source": [
    "from utils import runGraphBG\n",
    "n_clusters = len(true_labels)\n",
    "runGraphBG(adata_omics1, n_clusters=n_clusters, radius=50, key='X_pca', refinement=True, n_neighbors = 4, n_components = 20, covariance_type = 'tied', n_init = 5, max_iter = 1000)"
   ]
  },
  {
   "cell_type": "code",
   "execution_count": null,
   "id": "38b24704-735b-4975-a58a-516ca2aa10f3",
   "metadata": {},
   "outputs": [],
   "source": [
    "GraphBG_RNA_labels = adata_omics1.obs['domain'].values\n",
    "print(normalized_mutual_info_score(true_labels[true_labels>=0], GraphBG_RNA_labels[true_labels>=0]))"
   ]
  },
  {
   "cell_type": "code",
   "execution_count": null,
   "id": "5cc3c4c0-c8a6-4e9f-8202-4d7157eb76cb",
   "metadata": {},
   "outputs": [],
   "source": [
    "runGraphBG(adata_omics1, n_clusters=n_clusters, radius=50, key='raw', refinement=True, n_neighbors = 4, n_components = 20, covariance_type = 'tied', n_init = 5, max_iter = 1000)"
   ]
  },
  {
   "cell_type": "code",
   "execution_count": null,
   "id": "6badc3d4-df33-469d-a47b-9b20a1a0597b",
   "metadata": {},
   "outputs": [],
   "source": [
    "GraphBG_ADT_labels = adata_omics2.obs['domain'].values\n",
    "print(normalized_mutual_info_score(true_labels[true_labels>=0], GraphBG_ADT_labels[true_labels>=0]))"
   ]
  },
  {
   "cell_type": "code",
   "execution_count": null,
   "id": "116a2e52-c801-4888-97db-41caee1ae7ef",
   "metadata": {},
   "outputs": [],
   "source": [
    "output_df = pd.DataFrame({'GraphBG_RNA': GraphBG_RNA_labels, 'GraphBG_Protein': GraphBG_ADT_labels, 'ground_truth': true_labels})"
   ]
  },
  {
   "cell_type": "code",
   "execution_count": null,
   "id": "7943c35b-2c2e-4065-bdcf-c85480fbba60",
   "metadata": {},
   "outputs": [],
   "source": [
    "output_df"
   ]
  },
  {
   "cell_type": "code",
   "execution_count": null,
   "id": "c6d88556-52ec-4ee0-94c9-7ba9b60d944e",
   "metadata": {},
   "outputs": [],
   "source": [
    "output_df.to_csv('output/'+data_name+'_GraphBGUnimodal.csv', index = False)"
   ]
  },
  {
   "cell_type": "code",
   "execution_count": null,
   "id": "07fc9a49-7506-4710-9286-0ff592f1063e",
   "metadata": {},
   "outputs": [],
   "source": []
  }
 ],
 "metadata": {
  "kernelspec": {
   "display_name": "Python pygnn",
   "language": "python",
   "name": "pygnn"
  },
  "language_info": {
   "codemirror_mode": {
    "name": "ipython",
    "version": 3
   },
   "file_extension": ".py",
   "mimetype": "text/x-python",
   "name": "python",
   "nbconvert_exporter": "python",
   "pygments_lexer": "ipython3",
   "version": "3.8.20"
  }
 },
 "nbformat": 4,
 "nbformat_minor": 5
}
