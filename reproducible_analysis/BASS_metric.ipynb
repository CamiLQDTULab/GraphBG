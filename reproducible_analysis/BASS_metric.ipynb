{
 "cells": [
  {
   "cell_type": "code",
   "execution_count": 5,
   "id": "b5f8b24c-dafd-4b73-a4e6-f1e0c73edbe5",
   "metadata": {},
   "outputs": [
    {
     "name": "stdout",
     "output_type": "stream",
     "text": [
      "Done. Đã lưu kết quả tại: 151507_BASS_metrics.csv\n"
     ]
    }
   ],
   "source": [
    "import pandas as pd\n",
    "from sklearn import metrics\n",
    "\n",
    "# Đường dẫn tới file CSV chứa nhãn\n",
    "csv_path = '/Users/melancholy/Desktop/BASS/151507_BASS_labels.csv'\n",
    "\n",
    "# Đọc dữ liệu\n",
    "df = pd.read_csv(csv_path)\n",
    "\n",
    "# Mã hóa nhãn thật (true_labels) thành số\n",
    "true_labels_encoded, true_label_classes = pd.factorize(df['true_labels'])\n",
    "\n",
    "# Lấy nhãn dự đoán\n",
    "predicted_labels = df['predicted_labels']\n",
    "\n",
    "# Tính toán các chỉ số\n",
    "nmi = metrics.normalized_mutual_info_score(true_labels_encoded, predicted_labels)\n",
    "hom = metrics.homogeneity_score(true_labels_encoded, predicted_labels)\n",
    "com = metrics.completeness_score(true_labels_encoded, predicted_labels)\n",
    "\n",
    "# Ghi kết quả ra file CSV\n",
    "result_df = pd.DataFrame([{\n",
    "    'NMI': nmi,\n",
    "    'HOM': hom,\n",
    "    'COM': com\n",
    "}])\n",
    "result_df.to_csv('/Users/melancholy/Downloads/151507_BASS_metrics.csv', index=False)\n",
    "\n",
    "print(\"Done. Đã lưu kết quả tại: 151507_BASS_metrics.csv\")\n"
   ]
  },
  {
   "cell_type": "code",
   "execution_count": 9,
   "id": "aed15807-5c44-49d0-a31e-d28ae130593a",
   "metadata": {},
   "outputs": [
    {
     "name": "stdout",
     "output_type": "stream",
     "text": [
      "✅ Done: 151507\n",
      "✅ Done: 151508\n",
      "✅ Done: 151509\n",
      "✅ Done: 151510\n",
      "✅ Done: 151669\n",
      "✅ Done: 151670\n",
      "✅ Done: 151671\n",
      "✅ Done: 151672\n",
      "✅ Done: 151673\n",
      "✅ Done: 151674\n",
      "✅ Done: 151675\n",
      "✅ Done: 151676\n",
      "🎉 Hoàn tất. Đã lưu kết quả tại: /Users/melancholy/Downloads/bass_metrics.csv\n"
     ]
    }
   ],
   "source": [
    "import pandas as pd\n",
    "from sklearn import metrics\n",
    "import os\n",
    "\n",
    "# Danh sách các dataset cần xử lý\n",
    "dataset_ids = [str(i) for i in range(151507, 151511)] + [str(i) for i in range(151669, 151677)]\n",
    "\n",
    "# Thư mục chứa các file BASS_labels\n",
    "input_dir = '/Users/melancholy/Desktop/BASS'\n",
    "\n",
    "# Danh sách lưu kết quả\n",
    "results = []\n",
    "\n",
    "for data_id in dataset_ids:\n",
    "    try:\n",
    "        csv_path = os.path.join(input_dir, f'{data_id}_BASS_labels.csv')\n",
    "        df = pd.read_csv(csv_path)\n",
    "\n",
    "        # Mã hóa nhãn thật (true_labels)\n",
    "        true_labels_encoded, true_label_classes = pd.factorize(df['true_labels'])\n",
    "\n",
    "        # Nhãn dự đoán\n",
    "        predicted_labels = df['predicted_labels']\n",
    "\n",
    "        # Tính toán các chỉ số\n",
    "        nmi = metrics.normalized_mutual_info_score(true_labels_encoded, predicted_labels)\n",
    "        hom = metrics.homogeneity_score(true_labels_encoded, predicted_labels)\n",
    "        com = metrics.completeness_score(true_labels_encoded, predicted_labels)\n",
    "\n",
    "        # Lưu kết quả\n",
    "        results.append({\n",
    "            'DataName': data_id,\n",
    "            'Method': 'BASS',\n",
    "            'NMI': nmi,\n",
    "            'HOM': hom,\n",
    "            'COM': com\n",
    "        })\n",
    "\n",
    "        print(f'✅ Done: {data_id}')\n",
    "\n",
    "    except Exception as e:\n",
    "        print(f'❌ Lỗi với {data_id}: {e}')\n",
    "\n",
    "# Ghi toàn bộ kết quả vào file CSV\n",
    "output_path = '/Users/melancholy/Downloads/bass_metrics.csv'\n",
    "result_df = pd.DataFrame(results)\n",
    "result_df.to_csv(output_path, index=False)\n",
    "\n",
    "print(\"🎉 Hoàn tất. Đã lưu kết quả tại:\", output_path)\n"
   ]
  },
  {
   "cell_type": "code",
   "execution_count": 11,
   "id": "c6a5fc7e-7d22-43dc-a948-84dd9b491661",
   "metadata": {},
   "outputs": [
    {
     "name": "stdout",
     "output_type": "stream",
     "text": [
      "✅ Đã gộp và lưu tại: /Users/melancholy/Downloads/metrics_combined.csv\n"
     ]
    }
   ],
   "source": [
    "import pandas as pd\n",
    "\n",
    "# Đọc hai file CSV\n",
    "bass_df = pd.read_csv('/Users/melancholy/Downloads/bass_metrics.csv')\n",
    "all_methods_df = pd.read_csv('/Users/melancholy/Desktop/metrics_all_methods.csv')\n",
    "\n",
    "# Gộp hai bảng theo chiều dọc (thêm dòng)\n",
    "merged_df = pd.concat([all_methods_df, bass_df], ignore_index=True)\n",
    "\n",
    "# Ghi ra file mới\n",
    "output_path = '/Users/melancholy/Downloads/metrics_combined.csv'\n",
    "merged_df.to_csv(output_path, index=False)\n",
    "\n",
    "print(\"✅ Đã gộp và lưu tại:\", output_path)\n"
   ]
  }
 ],
 "metadata": {
  "kernelspec": {
   "display_name": "Python (py39)",
   "language": "python",
   "name": "py39"
  },
  "language_info": {
   "codemirror_mode": {
    "name": "ipython",
    "version": 3
   },
   "file_extension": ".py",
   "mimetype": "text/x-python",
   "name": "python",
   "nbconvert_exporter": "python",
   "pygments_lexer": "ipython3",
   "version": "3.9.18"
  }
 },
 "nbformat": 4,
 "nbformat_minor": 5
}
