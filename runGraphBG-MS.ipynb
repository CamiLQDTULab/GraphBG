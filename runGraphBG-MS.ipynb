{
 "cells": [
  {
   "cell_type": "markdown",
   "id": "167cf625-fec9-4850-8598-e2f518f6aa17",
   "metadata": {
    "tags": []
   },
   "source": [
    "## GraphBG-MS: SpectConv -> MetaCells -> Integration -> VB-GMM -> Propagation "
   ]
  },
  {
   "cell_type": "code",
   "execution_count": 1,
   "id": "bb34fd50-81b5-4906-b8f0-9c6ba8631ad2",
   "metadata": {},
   "outputs": [
    {
     "name": "stderr",
     "output_type": "stream",
     "text": [
      "/home/vanhoan310/miniconda3/envs/gnn/lib/python3.8/site-packages/tqdm/auto.py:22: TqdmWarning: IProgress not found. Please update jupyter and ipywidgets. See https://ipywidgets.readthedocs.io/en/stable/user_install.html\n",
      "  from .autonotebook import tqdm as notebook_tqdm\n"
     ]
    },
    {
     "name": "stdout",
     "output_type": "stream",
     "text": [
      "scanpy==1.9.1 anndata==0.9.2 umap==0.5.7 numpy==1.24.4 scipy==1.8.1 pandas==1.4.2 scikit-learn==1.1.1 statsmodels==0.14.1 python-igraph==0.11.8 pynndescent==0.5.13\n"
     ]
    }
   ],
   "source": [
    "from numpy.random import default_rng\n",
    "import scanpy as sc\n",
    "# import squidpy as sq\n",
    "from anndata import AnnData\n",
    "import scipy\n",
    "from sklearn.metrics.cluster import adjusted_rand_score\n",
    "import numpy as np\n",
    "import pandas as pd\n",
    "import seaborn as sns\n",
    "import os\n",
    "import torch\n",
    "import pandas as pd\n",
    "from sklearn import metrics\n",
    "import multiprocessing as mp\n",
    "from sklearn.metrics.cluster import normalized_mutual_info_score\n",
    "import pickle\n",
    "from sklearn.neighbors import kneighbors_graph\n",
    "# from sklearn.mixture import GaussianMixture\n",
    "# from sklearn.mixture import BayesianGaussianMixture\n",
    "import time\n",
    "from utils import cKD_refine_label\n",
    "sc.logging.print_header()"
   ]
  },
  {
   "cell_type": "code",
   "execution_count": 2,
   "id": "4a1b0736-7112-468a-b958-ecb4dfcdca6f",
   "metadata": {},
   "outputs": [],
   "source": [
    "# %load_ext autoreload\n",
    "# %autoreload 2"
   ]
  },
  {
   "cell_type": "code",
   "execution_count": 3,
   "id": "11c6b348-d052-4d19-8c14-fbb4344a59b0",
   "metadata": {},
   "outputs": [],
   "source": [
    "# MERFISH data\n",
    "data_dir = '/data/hoan/spatial_transcriptomics/data/SDMBench/Data/378k/BrainAgingSpatialAtlas_MERFISH.h5ad'\n",
    "adata_big=sc.read_h5ad(data_dir)\n",
    "donor_id = np.unique(adata_big.obs['donor_id'])\n",
    "adata_big.obsm['spatial'] = adata_big.obsm['spatial_coords']\n",
    "adata_big.obs['batch'] = adata_big.obs['donor_id'].astype(str) +'Slice'+ adata_big.obs['slice'].astype(str)\n",
    "adata_big.obs['Region'] = adata_big.obs['tissue']"
   ]
  },
  {
   "cell_type": "code",
   "execution_count": 4,
   "id": "979b4709-997c-453c-ae77-61b3ce725f79",
   "metadata": {},
   "outputs": [],
   "source": [
    "# import scanpy as sc, anndata as ad\n",
    "# import glob\n",
    "# from sklearn.decomposition import PCA\n",
    "# # from GraphST.utils import refine_label\n",
    "# from sklearn.preprocessing import StandardScaler\n",
    "# # from GraphST.utils import mclust_R\n",
    "# data_dir_full = []\n",
    "# adata_list = []\n",
    "# for data_dir in glob.glob(\"/data/hoan/spatial_transcriptomics/data/SDMBench/Data/MERFISH/*.h5ad\", recursive=True):\n",
    "#     # print(data_dir)\n",
    "#     data_dir_full.append(data_dir)\n",
    "#     ## Read and preprocessing data\n",
    "#     adata=sc.read_h5ad(data_dir)\n",
    "#     n_features = adata.shape[1]\n",
    "#     if n_features > 5000:\n",
    "#         sc.pp.highly_variable_genes(adata, flavor=\"seurat_v3\", n_top_genes=3000)\n",
    "#     sc.pp.normalize_total(adata, target_sum=1e4)\n",
    "#     sc.pp.log1p(adata)\n",
    "#     sc.pp.scale(adata, zero_center=False, max_value=10)\n",
    "#     if n_features > 5000:\n",
    "#         adata =  adata[:, adata.var['highly_variable']]\n",
    "#     sc.tl.pca(adata, n_comps=20)\n",
    "#     adata_list.append(adata)\n",
    "\n",
    "# adata_big = ad.concat(adata_list, join=\"inner\")\n",
    "# batch = [data_dir_full[i][-9:-5] for i in range(len(data_dir_full)) for j in range(adata_list[i].shape[0])]\n",
    "# adata_big.obs['batch'] = batch\n",
    "# data_dir_full"
   ]
  },
  {
   "cell_type": "code",
   "execution_count": 5,
   "id": "d0e94e06-7d32-44e0-a544-24269b171ed5",
   "metadata": {},
   "outputs": [],
   "source": [
    "# adata_big.obsm['spatial']"
   ]
  },
  {
   "cell_type": "code",
   "execution_count": 6,
   "id": "21cef045-fd60-4c3d-ab97-6d959e89ed44",
   "metadata": {},
   "outputs": [],
   "source": [
    "GraphBG = 'domain'\n",
    "adata_big.obs['GraphBG-MS_labels'] = 0"
   ]
  },
  {
   "cell_type": "code",
   "execution_count": 7,
   "id": "b8d382c0-b75d-4dbd-b111-7bed2469154f",
   "metadata": {},
   "outputs": [],
   "source": [
    "from sklearn.cluster import (KMeans, MiniBatchKMeans, AgglomerativeClustering, SpectralClustering, Birch)\n",
    "from sklearn.neighbors import kneighbors_graph\n",
    "# from GraphST.utils import refine_label"
   ]
  },
  {
   "cell_type": "code",
   "execution_count": 8,
   "id": "749fafde-f515-44db-9ca5-d2d5212a3520",
   "metadata": {},
   "outputs": [],
   "source": [
    "## Parallel implementation\n",
    "from joblib import Parallel, delayed\n",
    "def process_slice_donor(batch_id):\n",
    "    # print(sliceID, donorID)\n",
    "    adata = adata_big[adata_big.obs['batch'] == batch_id].copy()\n",
    "    if adata.shape[0] > 10:\n",
    "        n_clusters = 200 #100       \n",
    "        # Clustering\n",
    "        connectivity = kneighbors_graph(adata.obsm['spatial'], n_neighbors=4, include_self=False)\n",
    "        connectivity = 0.5 * (connectivity + connectivity.T)\n",
    "        embedding = connectivity.dot(adata.obsm['X_pca'])\n",
    "\n",
    "        clusteringobj = MiniBatchKMeans(n_clusters=n_clusters, random_state=42, tol=1e-3, max_iter=10000)\n",
    "        adata.obs[GraphBG] = clusteringobj.fit_predict(embedding)\n",
    "        # adata.obs[GraphBG] = refine_label(adata, radius=50, key=GraphBG)\n",
    "        adata.obs[GraphBG] = cKD_refine_label(np.array(adata.obsm['spatial']), adata.obs[GraphBG], k = 45)\n",
    "        cluster_vec = np.unique(adata.obs[GraphBG])\n",
    "        clusterIDvec = []\n",
    "        clusterValuevec = []\n",
    "        cluster2Cellsvec = []\n",
    "        for clusterID in cluster_vec:\n",
    "        # for clusterID in range(n_clusters):\n",
    "            sliceClusterID = batch_id + 'ClusterID' + str(clusterID)\n",
    "            sliceClusterValue = np.mean(embedding[adata.obs[GraphBG] == clusterID], axis=0)\n",
    "            clusterIDvec.append(sliceClusterID)\n",
    "            clusterValuevec.append(sliceClusterValue)\n",
    "            cluster2Cellsvec.append(adata.obs_names[adata.obs[GraphBG] == clusterID])\n",
    "        return ((clusterIDvec, clusterValuevec, cluster2Cellsvec))"
   ]
  },
  {
   "cell_type": "code",
   "execution_count": 9,
   "id": "09cb76b1-b772-44f3-ac38-ee2e38aa78c3",
   "metadata": {},
   "outputs": [
    {
     "name": "stdout",
     "output_type": "stream",
     "text": [
      "1.3866403341293334\n"
     ]
    }
   ],
   "source": [
    "time_st = time.time()\n",
    "# Parallel execution\n",
    "batch_vec = np.unique(adata_big.obs['batch'])\n",
    "# batch_vec = batch_vec[:5]\n",
    "# n_jobs = 1 in the paper\n",
    "results = Parallel(n_jobs=10)(delayed(process_slice_donor)(batch) for batch in batch_vec)\n",
    "time_ed = time.time()\n",
    "time_batch_clustering = time_ed-time_st\n",
    "print(time_batch_clustering/60)"
   ]
  },
  {
   "cell_type": "code",
   "execution_count": 10,
   "id": "29ddb16f-9efc-4728-b948-a22d5b9d7df0",
   "metadata": {},
   "outputs": [],
   "source": [
    "sliceCluster2SampleID = {}\n",
    "pseudoSamples_column = []\n",
    "pseudoSamples_value = []\n",
    "for i in range(len(results)):\n",
    "    if results[i] is not None:\n",
    "        x, y, z = results[i]\n",
    "        pseudoSamples_column += x\n",
    "        pseudoSamples_value += y\n",
    "        for j in range(len(x)):\n",
    "            sliceCluster2SampleID[x[j]] = z[j]"
   ]
  },
  {
   "cell_type": "code",
   "execution_count": 11,
   "id": "3590f52a-67da-4093-9053-ab0acce1983f",
   "metadata": {},
   "outputs": [],
   "source": [
    "# pseudoSamples = pd.DataFrame(np.array(pseudoSamples_value)[:len(pseudoSamples_column),].T, columns = list(pseudoSamples_column))\n",
    "pseudoSamples = pd.DataFrame(np.array(pseudoSamples_value).T, columns = list(pseudoSamples_column))"
   ]
  },
  {
   "cell_type": "code",
   "execution_count": 12,
   "id": "15a0448d-3c7b-482c-91da-3c5f65a71c7c",
   "metadata": {},
   "outputs": [],
   "source": [
    "# pseudoSamples"
   ]
  },
  {
   "cell_type": "code",
   "execution_count": 13,
   "id": "5854ecbf-41f1-4f6c-a7e0-ca5594905d93",
   "metadata": {},
   "outputs": [],
   "source": [
    "n_clusters = len(set(adata_big.obs['Region']))\n",
    "if np.nan in set(adata_big.obs['Region']):\n",
    "    n_clusters = n_clusters-1 # remove nan"
   ]
  },
  {
   "cell_type": "code",
   "execution_count": 14,
   "id": "b9589861-f5e3-44dd-8fd0-17f5484e8b1f",
   "metadata": {},
   "outputs": [],
   "source": [
    "from sklearn.metrics.cluster import adjusted_rand_score, normalized_mutual_info_score, homogeneity_score, completeness_score"
   ]
  },
  {
   "cell_type": "code",
   "execution_count": 15,
   "id": "42f36a70-3cc4-403c-8843-98ea50740441",
   "metadata": {},
   "outputs": [],
   "source": [
    "from CustomVBG import CustomBayesianGaussianMixture\n",
    "gbg = CustomBayesianGaussianMixture(n_components=n_clusters, covariance_type='tied', random_state=42, init_params = 'random_from_data', n_init = 15, max_iter = 1000)"
   ]
  },
  {
   "cell_type": "code",
   "execution_count": 16,
   "id": "04a0cfc5-6c50-434f-ace0-b52e8c91475c",
   "metadata": {},
   "outputs": [
    {
     "name": "stdout",
     "output_type": "stream",
     "text": [
      "Set batch for Brain Aging Dataset\n"
     ]
    }
   ],
   "source": [
    "pseudoSamples_list = pseudoSamples_column\n",
    "if 'BrainAging' in pseudoSamples_list[0]:\n",
    "    print('Set batch for Brain Aging Dataset')\n",
    "    batch_labels = [item[0:30] for item in pseudoSamples_list] # For \n",
    "else:\n",
    "    print('Set batch labels')\n",
    "    batch_labels = [item[0:5] for item in pseudoSamples_list] # For"
   ]
  },
  {
   "cell_type": "code",
   "execution_count": 17,
   "id": "0cd38d1b-3403-4a52-a218-6c0326524198",
   "metadata": {},
   "outputs": [
    {
     "data": {
      "text/plain": [
       "array(['MsBrainAgingSpatialDonor_10Sli', 'MsBrainAgingSpatialDonor_11Sli',\n",
       "       'MsBrainAgingSpatialDonor_12Sli', 'MsBrainAgingSpatialDonor_1Slic',\n",
       "       'MsBrainAgingSpatialDonor_2Slic', 'MsBrainAgingSpatialDonor_3Slic',\n",
       "       'MsBrainAgingSpatialDonor_4Slic', 'MsBrainAgingSpatialDonor_5Slic',\n",
       "       'MsBrainAgingSpatialDonor_6Slic', 'MsBrainAgingSpatialDonor_7Slic',\n",
       "       'MsBrainAgingSpatialDonor_8Slic', 'MsBrainAgingSpatialDonor_9Slic'],\n",
       "      dtype='<U30')"
      ]
     },
     "execution_count": 17,
     "metadata": {},
     "output_type": "execute_result"
    }
   ],
   "source": [
    "np.unique(batch_labels)"
   ]
  },
  {
   "cell_type": "code",
   "execution_count": 18,
   "id": "5037d4b8-512f-4b48-8fdb-8343ca2e24be",
   "metadata": {},
   "outputs": [
    {
     "data": {
      "text/plain": [
       "AnnData object with n_obs × n_vars = 5285 × 50\n",
       "    obs: 'batch'\n",
       "    obsm: 'X_pca'"
      ]
     },
     "execution_count": 18,
     "metadata": {},
     "output_type": "execute_result"
    }
   ],
   "source": [
    "X = pseudoSamples.T.values\n",
    "import scanpy.external as sce\n",
    "adata = sc.AnnData(X)\n",
    "adata.obsm['X_pca'] = X\n",
    "adata.obs[\"batch\"] = batch_labels\n",
    "time_st = time.time()\n",
    "sc.pp.combat(adata, key=\"batch\", inplace=True)\n",
    "# sce.pp.harmony_integrate(adata, key=\"batch\", max_iter_harmony=40)\n",
    "time_ed = time.time()\n",
    "time_combat = time_ed-time_st\n",
    "adata"
   ]
  },
  {
   "cell_type": "code",
   "execution_count": 19,
   "id": "b38f21a0-85cb-447d-8582-46416267b979",
   "metadata": {},
   "outputs": [
    {
     "name": "stdout",
     "output_type": "stream",
     "text": [
      "Spatial correction per slice\n"
     ]
    }
   ],
   "source": [
    "X = adata.X\n",
    "if 'X_pca_harmony' in adata.obsm:\n",
    "    print (\"Use harmony\")\n",
    "    X  = adata.obsm['X_pca_harmony']\n",
    "# Store clustering results\n",
    "time_st = time.time()\n",
    "multi_clusterLabels = gbg.fit_predict(X)\n",
    "adata_big.obs['GraphBG-MS_labels'] = 0\n",
    "for i in range(len(pseudoSamples_list)):\n",
    "    pseudoSamplesX = pseudoSamples_list[i]\n",
    "    adata_big.obs.loc[sliceCluster2SampleID[pseudoSamplesX], 'GraphBG-MS_labels'] = multi_clusterLabels[i]\n",
    "#print(name, normalized_mutual_info_score(adata_big.obs['tissue'], adata_big.obs['GraphBG-MS_labels']))\n",
    "print('Spatial correction per slice')\n",
    "for batch in batch_vec:\n",
    "    mask_ = (adata_big.obs['batch'] == batch)\n",
    "    adata_big.obs.loc[mask_, 'GraphBG-MS_labels'] = cKD_refine_label(np.array(adata_big[mask_].obsm['spatial']),\n",
    "                                                                    adata_big.obs.loc[mask_, 'GraphBG-MS_labels'], k = 45)\n",
    "true_labels = pd.factorize(adata_big.obs['Region'])[0]"
   ]
  },
  {
   "cell_type": "code",
   "execution_count": 20,
   "id": "a59d6763-8a34-4954-8ca6-d27fb1e908f1",
   "metadata": {},
   "outputs": [
    {
     "name": "stdout",
     "output_type": "stream",
     "text": [
      "0.7048365747052985\n"
     ]
    }
   ],
   "source": [
    "print(normalized_mutual_info_score(true_labels[true_labels>0], adata_big.obs['GraphBG-MS_labels'][true_labels>0]))\n",
    "\n",
    "time_ed = time.time()\n",
    "time_Kmeans = time_ed-time_st"
   ]
  },
  {
   "cell_type": "code",
   "execution_count": null,
   "id": "460f4574-b5b5-4ac9-a569-dba64d6e9e74",
   "metadata": {},
   "outputs": [],
   "source": []
  }
 ],
 "metadata": {
  "kernelspec": {
   "display_name": "Python pygnn",
   "language": "python",
   "name": "pygnn"
  },
  "language_info": {
   "codemirror_mode": {
    "name": "ipython",
    "version": 3
   },
   "file_extension": ".py",
   "mimetype": "text/x-python",
   "name": "python",
   "nbconvert_exporter": "python",
   "pygments_lexer": "ipython3",
   "version": "3.8.20"
  }
 },
 "nbformat": 4,
 "nbformat_minor": 5
}
