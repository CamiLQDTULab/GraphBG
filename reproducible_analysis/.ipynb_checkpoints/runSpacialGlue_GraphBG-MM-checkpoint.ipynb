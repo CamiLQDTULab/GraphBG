{
 "cells": [
  {
   "cell_type": "code",
   "execution_count": 1,
   "id": "dda6fef1-cda9-4fbb-8702-c6eb368a2529",
   "metadata": {
    "tags": []
   },
   "outputs": [],
   "source": [
    "import os\n",
    "import torch\n",
    "import pandas as pd\n",
    "import scanpy as sc"
   ]
  },
  {
   "cell_type": "code",
   "execution_count": 2,
   "id": "9fc4d10d-76ef-4385-931c-3a12a716cf1b",
   "metadata": {
    "tags": []
   },
   "outputs": [],
   "source": [
    "import SpatialGlue"
   ]
  },
  {
   "cell_type": "markdown",
   "id": "79555622-9e84-41cb-86b8-eb02530c9743",
   "metadata": {
    "tags": []
   },
   "source": [
    "### Import packages and read data"
   ]
  },
  {
   "cell_type": "code",
   "execution_count": 3,
   "id": "590ab64c-20d5-45c1-9e11-dcd7e249546d",
   "metadata": {
    "tags": []
   },
   "outputs": [],
   "source": [
    "from numpy.random import default_rng\n",
    "import scanpy as sc\n",
    "# import squidpy as sq\n",
    "from anndata import AnnData\n",
    "import scipy\n",
    "# sc.logging.print_header()\n",
    "from sklearn.metrics.cluster import adjusted_rand_score\n",
    "import numpy as np\n",
    "import pandas as pd\n",
    "import seaborn as sns\n",
    "import os\n",
    "import torch\n",
    "import pandas as pd\n",
    "import scanpy as sc\n",
    "from sklearn import metrics\n",
    "import multiprocessing as mp\n",
    "from sklearn.metrics.cluster import normalized_mutual_info_score\n",
    "from numpy import genfromtxt"
   ]
  },
  {
   "cell_type": "code",
   "execution_count": 4,
   "id": "169b3268-0855-4ea9-8f46-9a8e54950cca",
   "metadata": {
    "tags": []
   },
   "outputs": [],
   "source": [
    "# Read data\n",
    "# data_name = 'CBMCs_nCells_1002_nGenes_100_'\n",
    "data_name = 'CBMCs_nCells_1992_nGenes_100_'\n",
    "# data_name = 'CBMCs_nCells_1992_nGenes_500_'\n",
    "# data_name = 'CBMCs_nCells_1992_nGenes_1000_'\n",
    "# data_name = 'CBMCs_nCells_4970_nGenes_100_'\n",
    "# data_name = 'CBMCs_nCells_4970_nGenes_500_'\n",
    "# data_name = 'CBMCs_nCells_9471_nGenes_100_'\n",
    "# data_name = 'CBMCs_nCells_10201_nGenes_100_'\n",
    "RNA_counts = pd.read_csv('/data/hoan/spatial_transcriptomics/GraphBGM/Data/scDesign3/'+data_name +'RNA.csv', delimiter=',')\n",
    "ADT_counts = pd.read_csv('/data/hoan/spatial_transcriptomics/GraphBGM/Data/scDesign3/'+data_name +'ADT.csv', delimiter=',')\n",
    "metadata =pd.read_csv('/data/hoan/spatial_transcriptomics/GraphBGM/Data/scDesign3/'+data_name +'metadata.csv', delimiter=',') \n",
    "# Duplicate\n",
    "RNA_counts = pd.concat([RNA_counts.copy().add_suffix(f'_{i+1}') for i in range(10)], axis=1)\n",
    "# ADT_counts = pd.concat([ADT_counts.copy().add_suffix(f'_{i+1}') for i in range(10)], axis=1)"
   ]
  },
  {
   "cell_type": "code",
   "execution_count": 5,
   "id": "aa8a2b9d-2dcf-4def-b9fd-1d8d45f02f85",
   "metadata": {
    "tags": []
   },
   "outputs": [
    {
     "data": {
      "text/plain": [
       "((1992, 1000), (1992, 6))"
      ]
     },
     "execution_count": 5,
     "metadata": {},
     "output_type": "execute_result"
    }
   ],
   "source": [
    "RNA_counts.shape, ADT_counts.shape"
   ]
  },
  {
   "cell_type": "code",
   "execution_count": 6,
   "id": "0ec74924-f1a2-4dba-882e-55db72604cf2",
   "metadata": {
    "tags": []
   },
   "outputs": [],
   "source": [
    "# Create anndata obj\n",
    "adata_omics1 = AnnData(RNA_counts.values, obsm={\"spatial\": metadata.iloc[:,2:4].values}, uns={\"spatial\": metadata.iloc[:,2:4].values})\n",
    "adata_omics1.obs_names = [f\"Cell_{i:d}\" for i in range(adata_omics1.n_obs)]\n",
    "adata_omics1.var_names = list(RNA_counts.columns.values)\n",
    "adata_omics2 = AnnData(ADT_counts.values, obsm={\"spatial\": metadata.iloc[:,2:4].values}, uns={\"spatial\": metadata.iloc[:,2:4].values})\n",
    "adata_omics2.obs_names = [f\"Cell_{i:d}\" for i in range(adata_omics1.n_obs)]\n",
    "adata_omics2.var_names = list(ADT_counts.columns.values)"
   ]
  },
  {
   "cell_type": "code",
   "execution_count": 7,
   "id": "7c1f6f1d-9ea9-484f-a64c-d9da0b2b8ac8",
   "metadata": {
    "tags": []
   },
   "outputs": [
    {
     "data": {
      "text/plain": [
       "(AnnData object with n_obs × n_vars = 1992 × 1000\n",
       "     uns: 'spatial'\n",
       "     obsm: 'spatial',\n",
       " AnnData object with n_obs × n_vars = 1992 × 6\n",
       "     uns: 'spatial'\n",
       "     obsm: 'spatial')"
      ]
     },
     "execution_count": 7,
     "metadata": {},
     "output_type": "execute_result"
    }
   ],
   "source": [
    "adata_omics1, adata_omics2"
   ]
  },
  {
   "cell_type": "code",
   "execution_count": 8,
   "id": "2aa41ba8-23bd-4883-bcab-e3d8d68e8123",
   "metadata": {},
   "outputs": [],
   "source": [
    "# # read data\n",
    "# file_fold = '/data/hoan/spatial_transcriptomics/GraphBGM/Data/SpatialGlue' #please replace 'file_fold' with the download path\n",
    "# adata_omics1 = sc.read_h5ad(file_fold + '/adata_RNA.h5ad')\n",
    "# adata_omics2 = sc.read_h5ad(file_fold + '/adata_ADT.h5ad')\n",
    "# adata_omics1.var_names_make_unique()\n",
    "# adata_omics2.var_names_make_unique()"
   ]
  },
  {
   "cell_type": "markdown",
   "id": "99581b54-c53e-4f93-b4c5-59aba07228f7",
   "metadata": {
    "tags": []
   },
   "source": [
    "### Preprocessing data (SpatialGlue)"
   ]
  },
  {
   "cell_type": "code",
   "execution_count": 9,
   "id": "3f62d269-7308-45b7-b255-748972eb5c88",
   "metadata": {},
   "outputs": [],
   "source": [
    "# Specify data type\n",
    "data_type = '10x'\n",
    "# Fix random seed\n",
    "from SpatialGlue.preprocess import fix_seed\n",
    "random_seed = 2022\n",
    "fix_seed(random_seed)"
   ]
  },
  {
   "cell_type": "code",
   "execution_count": 10,
   "id": "2855edf5-911a-4fad-810d-f709b672b5eb",
   "metadata": {},
   "outputs": [],
   "source": [
    "from SpatialGlue.preprocess import clr_normalize_each_cell, pca"
   ]
  },
  {
   "cell_type": "code",
   "execution_count": 11,
   "id": "92733d36-73fc-40f2-abc6-aeb651991c92",
   "metadata": {},
   "outputs": [],
   "source": [
    "sc.pp.filter_genes(adata_omics2, min_cells=0)\n",
    "adata_omics2 = adata_omics2[adata_omics1.obs_names].copy()"
   ]
  },
  {
   "cell_type": "code",
   "execution_count": 12,
   "id": "f940b699-8e85-4f23-802b-50baa9c29c10",
   "metadata": {},
   "outputs": [],
   "source": [
    "# n_PCAs = adata_omics2.n_vars-1\n",
    "n_PCAs = 5"
   ]
  },
  {
   "cell_type": "code",
   "execution_count": 13,
   "id": "77b982bf-b506-414a-b6fd-4af014dc311f",
   "metadata": {},
   "outputs": [],
   "source": [
    "# Protein\n",
    "adata_omics2 = clr_normalize_each_cell(adata_omics2)\n",
    "adata_omics2.obsm['feat'] = pca(adata_omics2, n_comps=n_PCAs)"
   ]
  },
  {
   "cell_type": "code",
   "execution_count": 14,
   "id": "627f3e19-8751-43b6-8a8d-bf031c18fb18",
   "metadata": {},
   "outputs": [],
   "source": [
    "from scipy.sparse import issparse, csr_matrix\n",
    "# Kiểm tra dữ liệu và chuyển đổi nếu cần\n",
    "if not issparse(adata_omics2.X):\n",
    "    adata_omics2.X = csr_matrix(adata_omics2.X)"
   ]
  },
  {
   "cell_type": "code",
   "execution_count": 15,
   "id": "ad528549-05da-44a7-ae33-800301a22f3b",
   "metadata": {},
   "outputs": [],
   "source": [
    "#RNA\n",
    "sc.pp.filter_genes(adata_omics1, min_cells=0)\n",
    "sc.pp.filter_cells(adata_omics1, min_genes=0)"
   ]
  },
  {
   "cell_type": "code",
   "execution_count": 16,
   "id": "5c608712-fed4-42ab-8a5e-2f33e76d028a",
   "metadata": {},
   "outputs": [],
   "source": [
    "# sc.pp.highly_variable_genes(adata_omics1, flavor=\"seurat_v3\", n_top_genes=500)\n",
    "sc.pp.normalize_total(adata_omics1, target_sum=1e4)\n",
    "sc.pp.log1p(adata_omics1)"
   ]
  },
  {
   "cell_type": "code",
   "execution_count": 17,
   "id": "6ac250c8-b7fa-4341-92a9-1a4e3106583d",
   "metadata": {},
   "outputs": [],
   "source": [
    "# adata_omics1_high =  adata_omics1[:, adata_omics1.var['highly_variable']]\n",
    "# adata_omics1.obsm['feat'] = pca(adata_omics1_high, n_comps=adata_omics2.n_vars-1)\n",
    "adata_omics1.obsm['feat'] = pca(adata_omics1, n_comps=n_PCAs)"
   ]
  },
  {
   "cell_type": "code",
   "execution_count": 18,
   "id": "91c059c8-bdb6-4853-bb94-2e50f9762616",
   "metadata": {},
   "outputs": [],
   "source": [
    "# adata_omics1.obsm['feat']"
   ]
  },
  {
   "cell_type": "code",
   "execution_count": 19,
   "id": "017c9141-a358-428a-9a4c-edcd86a3e961",
   "metadata": {},
   "outputs": [],
   "source": [
    "import pandas as pd\n",
    "\n",
    "df_omics1 = pd.DataFrame(adata_omics1.X, index=adata_omics1.obs_names)\n",
    "df_omics2 = pd.DataFrame(adata_omics2.X, index=adata_omics2.obs_names)\n",
    "common_samples = df_omics1.index.intersection(df_omics2.index)\n",
    "adata_omics2 = adata_omics2[adata_omics2.obs.index.isin(common_samples)]\n",
    "adata_omics1 = adata_omics1[adata_omics1.obs.index.isin(common_samples)]"
   ]
  },
  {
   "cell_type": "code",
   "execution_count": 20,
   "id": "b614dd6b-f168-46e9-940e-c767b564d6cd",
   "metadata": {},
   "outputs": [
    {
     "data": {
      "text/plain": [
       "15"
      ]
     },
     "execution_count": 20,
     "metadata": {},
     "output_type": "execute_result"
    }
   ],
   "source": [
    "true_labels = np.array(metadata['label'])\n",
    "n_clusters = len(set(true_labels))\n",
    "n_clusters"
   ]
  },
  {
   "cell_type": "markdown",
   "id": "7b95075b-9b1d-4485-93fb-0ce8897c513f",
   "metadata": {
    "tags": []
   },
   "source": [
    "### Run SpatialGlue"
   ]
  },
  {
   "cell_type": "code",
   "execution_count": 21,
   "id": "1be88117-9ba7-45e9-b023-cbe7bf353a22",
   "metadata": {},
   "outputs": [
    {
     "name": "stderr",
     "output_type": "stream",
     "text": [
      "/home/vanhoan310/miniconda3/envs/gnn/lib/python3.8/site-packages/SpatialGlue/preprocess.py:41: ImplicitModificationWarning: Trying to modify attribute `._uns` of view, initializing view as actual.\n",
      "  adata_omics1.uns['adj_spatial'] = adj_omics1\n",
      "/home/vanhoan310/miniconda3/envs/gnn/lib/python3.8/site-packages/SpatialGlue/preprocess.py:46: ImplicitModificationWarning: Trying to modify attribute `._uns` of view, initializing view as actual.\n",
      "  adata_omics2.uns['adj_spatial'] = adj_omics2\n"
     ]
    },
    {
     "name": "stdout",
     "output_type": "stream",
     "text": [
      "Using device: cpu\n"
     ]
    },
    {
     "name": "stderr",
     "output_type": "stream",
     "text": [
      "/home/vanhoan310/miniconda3/envs/gnn/lib/python3.8/site-packages/SpatialGlue/preprocess.py:132: UserWarning: torch.sparse.SparseTensor(indices, values, shape, *, device=) is deprecated.  Please use torch.sparse_coo_tensor(indices, values, shape, dtype=, device=). (Triggered internally at ../torch/csrc/utils/tensor_new.cpp:641.)\n",
      "  return torch.sparse.FloatTensor(indices, values, shape)\n",
      "  0%|          | 0/200 [00:00<?, ?it/s]/home/vanhoan310/miniconda3/envs/gnn/lib/python3.8/site-packages/SpatialGlue/model.py:212: UserWarning: Implicit dimension choice for softmax has been deprecated. Change the call to include dim=X as an argument.\n",
      "  self.alpha = F.softmax(torch.squeeze(self.vu) + 1e-6)\n",
      "100%|██████████| 200/200 [07:04<00:00,  2.12s/it]\n"
     ]
    },
    {
     "name": "stdout",
     "output_type": "stream",
     "text": [
      "Model training finished!\n",
      "\n"
     ]
    },
    {
     "name": "stderr",
     "output_type": "stream",
     "text": [
      "During startup - Warning messages:\n",
      "1: package ‘methods’ was built under R version 3.6.1 \n",
      "2: package ‘datasets’ was built under R version 3.6.1 \n",
      "3: package ‘utils’ was built under R version 3.6.1 \n",
      "4: package ‘grDevices’ was built under R version 3.6.1 \n",
      "5: package ‘graphics’ was built under R version 3.6.1 \n",
      "6: package ‘stats’ was built under R version 3.6.1 \n",
      "R[write to console]:     __  ___________    __  _____________\n",
      "   /  |/  / ____/ /   / / / / ___/_  __/\n",
      "  / /|_/ / /   / /   / / / /\\__ \\ / /   \n",
      " / /  / / /___/ /___/ /_/ /___/ // /    \n",
      "/_/  /_/\\____/_____/\\____//____//_/    version 5.4.7\n",
      "Type 'citation(\"mclust\")' for citing this R package in publications.\n",
      "\n"
     ]
    },
    {
     "name": "stdout",
     "output_type": "stream",
     "text": [
      "fitting ...\n",
      "  |======================================================================| 100%\n",
      "0.2911218605609437\n",
      "0.5290312782908388\n"
     ]
    }
   ],
   "source": [
    "if True:\n",
    "    from SpatialGlue.preprocess import construct_neighbor_graph\n",
    "    data = construct_neighbor_graph(adata_omics1, adata_omics2, datatype=data_type)\n",
    "    from SpatialGlue.SpatialGlue_pyG import Train_SpatialGlue\n",
    "    import torch\n",
    "    device = torch.device(\"cuda\" if torch.cuda.is_available() else \"cpu\")\n",
    "    print(f\"Using device: {device}\")\n",
    "    model = Train_SpatialGlue(data, datatype=data_type, device=device)\n",
    "    # train model\n",
    "    output = model.train()\n",
    "    adata = adata_omics1.copy()\n",
    "    adata.obsm['emb_latent_omics1'] = output['emb_latent_omics1']\n",
    "    adata.obsm['emb_latent_omics2'] = output['emb_latent_omics2']\n",
    "    adata.obsm['SpatialGlue'] = output['SpatialGlue']\n",
    "    adata.obsm['alpha'] = output['alpha']\n",
    "    adata.obsm['alpha_omics1'] = output['alpha_omics1']\n",
    "    adata.obsm['alpha_omics2'] = output['alpha_omics2']\n",
    "    # clustering\n",
    "    # we set 'mclust' as clustering tool by default. Users can also select 'leiden' and 'louvain'\n",
    "    from SpatialGlue.utils import clustering\n",
    "    os.environ['R_HOME'] = '/data/hoan/mybin/miniconda3/lib/R'\n",
    "    tool = 'mclust' # mclust, leiden, and louvain\n",
    "    clustering(adata, key='SpatialGlue', add_key='SpatialGlue', n_clusters=n_clusters, method=tool, use_pca=True, start=0.9, end=1.1, increment=0.02)\n",
    "    print(adjusted_rand_score(true_labels, adata.obs['SpatialGlue']))\n",
    "    print(normalized_mutual_info_score(true_labels, adata.obs['SpatialGlue']))"
   ]
  },
  {
   "cell_type": "code",
   "execution_count": 22,
   "id": "b1a663f0-52c5-4c20-bc82-627adebb63da",
   "metadata": {},
   "outputs": [],
   "source": [
    "# # visualization\n",
    "# import matplotlib.pyplot as plt\n",
    "# adata.obsm['spatial'][:,1] = -1*adata.obsm['spatial'][:,1]\n",
    "\n",
    "# fig, ax_list = plt.subplots(2, 2, figsize=(10, 6))\n",
    "# # sc.pp.neighbors(adata, use_rep='SpatialGlue', n_neighbors=30)\n",
    "# # sc.tl.umap(adata)\n",
    "# adata.obs['domain'] = true_labels.astype(str)\n",
    "# sc.pl.umap(adata, color='SpatialGlue', ax=ax_list[0,0], title='SpatialGlue', s=20, show=False)\n",
    "# sc.pl.embedding(adata, basis='spatial', color='SpatialGlue', ax=ax_list[0,1], title='SpatialGlue', s=20, show=False)\n",
    "# sc.pl.umap(adata, color='domain', ax=ax_list[1,0], title='domain', s=20, show=False)\n",
    "# sc.pl.embedding(adata, basis='spatial', color='domain', ax=ax_list[1,1], title='domain', s=20, show=False)\n",
    "\n",
    "# plt.tight_layout(w_pad=0.3)\n",
    "# plt.show()"
   ]
  },
  {
   "cell_type": "code",
   "execution_count": 23,
   "id": "372fd372-45c4-4b23-983c-47162a83d7bb",
   "metadata": {},
   "outputs": [],
   "source": [
    "# # plotting with annotation\n",
    "# fig, ax_list = plt.subplots(1, 2, figsize=(9.5, 3))\n",
    "# sc.pp.neighbors(adata, use_rep='SpatialGlue', n_neighbors=30)\n",
    "# sc.tl.umap(adata)\n",
    "\n",
    "# sc.pl.umap(adata, color='SpatialGlue', ax=ax_list[0], title='SpatialGlue', s=10, show=False)\n",
    "# sc.pl.embedding(adata, basis='spatial', color='SpatialGlue', ax=ax_list[1], title='SpatialGlue', s=20, show=False)\n",
    "\n",
    "# ax_list[0].get_legend().remove()\n",
    "\n",
    "# plt.tight_layout(w_pad=0.3)\n",
    "# plt.show()"
   ]
  },
  {
   "cell_type": "markdown",
   "id": "75ad8090-1554-42c6-adc1-cb8cd4b8ac27",
   "metadata": {},
   "source": [
    "### GraphGBM"
   ]
  },
  {
   "cell_type": "code",
   "execution_count": 24,
   "id": "3dc5763b-0d03-439b-bbe8-e2459a4d6d7d",
   "metadata": {},
   "outputs": [],
   "source": [
    "from sklearn.decomposition import PCA\n",
    "# from GraphST.utils import refine_label\n",
    "from sklearn.preprocessing import StandardScaler\n",
    "# from GraphST.utils import mclust_R\n",
    "import numpy as np\n",
    "from numpy import dot, array\n",
    "from sklearn.cross_decomposition import CCA\n",
    "from sklearn.preprocessing import StandardScaler\n",
    "from sklearn.neighbors import kneighbors_graph\n",
    "from sklearn.mixture import BayesianGaussianMixture\n",
    "from mvlearn.datasets import load_UCImultifeature\n",
    "from mvlearn.embed import GCCA\n",
    "# gcca = GCCA(n_components = 20)\n",
    "# Xs_latents = gcca.fit_transform(Xs)\n",
    "\n",
    "from mvlearn.plotting import crossviews_plot\n",
    "from mvlearn.embed import DCCA\n",
    "from mvlearn.embed import MCCA\n",
    "from mvlearn.embed import KMCCA"
   ]
  },
  {
   "cell_type": "code",
   "execution_count": 25,
   "id": "e2f0e3aa-460b-44bd-975c-602b48adeaad",
   "metadata": {},
   "outputs": [],
   "source": [
    "# embedding_RNA.shape"
   ]
  },
  {
   "cell_type": "code",
   "execution_count": 26,
   "id": "5a35dd50-4e4f-4366-a618-8f7cc12c97fb",
   "metadata": {},
   "outputs": [
    {
     "data": {
      "text/html": [
       "<style>#sk-container-id-1 {color: black;background-color: white;}#sk-container-id-1 pre{padding: 0;}#sk-container-id-1 div.sk-toggleable {background-color: white;}#sk-container-id-1 label.sk-toggleable__label {cursor: pointer;display: block;width: 100%;margin-bottom: 0;padding: 0.3em;box-sizing: border-box;text-align: center;}#sk-container-id-1 label.sk-toggleable__label-arrow:before {content: \"▸\";float: left;margin-right: 0.25em;color: #696969;}#sk-container-id-1 label.sk-toggleable__label-arrow:hover:before {color: black;}#sk-container-id-1 div.sk-estimator:hover label.sk-toggleable__label-arrow:before {color: black;}#sk-container-id-1 div.sk-toggleable__content {max-height: 0;max-width: 0;overflow: hidden;text-align: left;background-color: #f0f8ff;}#sk-container-id-1 div.sk-toggleable__content pre {margin: 0.2em;color: black;border-radius: 0.25em;background-color: #f0f8ff;}#sk-container-id-1 input.sk-toggleable__control:checked~div.sk-toggleable__content {max-height: 200px;max-width: 100%;overflow: auto;}#sk-container-id-1 input.sk-toggleable__control:checked~label.sk-toggleable__label-arrow:before {content: \"▾\";}#sk-container-id-1 div.sk-estimator input.sk-toggleable__control:checked~label.sk-toggleable__label {background-color: #d4ebff;}#sk-container-id-1 div.sk-label input.sk-toggleable__control:checked~label.sk-toggleable__label {background-color: #d4ebff;}#sk-container-id-1 input.sk-hidden--visually {border: 0;clip: rect(1px 1px 1px 1px);clip: rect(1px, 1px, 1px, 1px);height: 1px;margin: -1px;overflow: hidden;padding: 0;position: absolute;width: 1px;}#sk-container-id-1 div.sk-estimator {font-family: monospace;background-color: #f0f8ff;border: 1px dotted black;border-radius: 0.25em;box-sizing: border-box;margin-bottom: 0.5em;}#sk-container-id-1 div.sk-estimator:hover {background-color: #d4ebff;}#sk-container-id-1 div.sk-parallel-item::after {content: \"\";width: 100%;border-bottom: 1px solid gray;flex-grow: 1;}#sk-container-id-1 div.sk-label:hover label.sk-toggleable__label {background-color: #d4ebff;}#sk-container-id-1 div.sk-serial::before {content: \"\";position: absolute;border-left: 1px solid gray;box-sizing: border-box;top: 0;bottom: 0;left: 50%;z-index: 0;}#sk-container-id-1 div.sk-serial {display: flex;flex-direction: column;align-items: center;background-color: white;padding-right: 0.2em;padding-left: 0.2em;position: relative;}#sk-container-id-1 div.sk-item {position: relative;z-index: 1;}#sk-container-id-1 div.sk-parallel {display: flex;align-items: stretch;justify-content: center;background-color: white;position: relative;}#sk-container-id-1 div.sk-item::before, #sk-container-id-1 div.sk-parallel-item::before {content: \"\";position: absolute;border-left: 1px solid gray;box-sizing: border-box;top: 0;bottom: 0;left: 50%;z-index: -1;}#sk-container-id-1 div.sk-parallel-item {display: flex;flex-direction: column;z-index: 1;position: relative;background-color: white;}#sk-container-id-1 div.sk-parallel-item:first-child::after {align-self: flex-end;width: 50%;}#sk-container-id-1 div.sk-parallel-item:last-child::after {align-self: flex-start;width: 50%;}#sk-container-id-1 div.sk-parallel-item:only-child::after {width: 0;}#sk-container-id-1 div.sk-dashed-wrapped {border: 1px dashed gray;margin: 0 0.4em 0.5em 0.4em;box-sizing: border-box;padding-bottom: 0.4em;background-color: white;}#sk-container-id-1 div.sk-label label {font-family: monospace;font-weight: bold;display: inline-block;line-height: 1.2em;}#sk-container-id-1 div.sk-label-container {text-align: center;}#sk-container-id-1 div.sk-container {/* jupyter's `normalize.less` sets `[hidden] { display: none; }` but bootstrap.min.css set `[hidden] { display: none !important; }` so we also need the `!important` here to be able to override the default hidden behavior on the sphinx rendered scikit-learn.org. See: https://github.com/scikit-learn/scikit-learn/issues/21755 */display: inline-block !important;position: relative;}#sk-container-id-1 div.sk-text-repr-fallback {display: none;}</style><div id=\"sk-container-id-1\" class=\"sk-top-container\"><div class=\"sk-text-repr-fallback\"><pre>CCA(n_components=5)</pre><b>In a Jupyter environment, please rerun this cell to show the HTML representation or trust the notebook. <br />On GitHub, the HTML representation is unable to render, please try loading this page with nbviewer.org.</b></div><div class=\"sk-container\" hidden><div class=\"sk-item\"><div class=\"sk-estimator sk-toggleable\"><input class=\"sk-toggleable__control sk-hidden--visually\" id=\"sk-estimator-id-1\" type=\"checkbox\" checked><label for=\"sk-estimator-id-1\" class=\"sk-toggleable__label sk-toggleable__label-arrow\">CCA</label><div class=\"sk-toggleable__content\"><pre>CCA(n_components=5)</pre></div></div></div></div></div>"
      ],
      "text/plain": [
       "CCA(n_components=5)"
      ]
     },
     "execution_count": 26,
     "metadata": {},
     "output_type": "execute_result"
    }
   ],
   "source": [
    "embedding = adata_omics1.obsm['feat']\n",
    "n_neighbors = 4\n",
    "connectivity = kneighbors_graph(adata_omics1.obsm['spatial'], n_neighbors=n_neighbors, include_self=False)\n",
    "# make connectivity symmetric\n",
    "connectivity = 0.5 * (connectivity + connectivity.T)\n",
    "embedding_RNA = connectivity.dot(embedding)\n",
    "adata_omics1.obsm['spatial_RNAfeat'] = embedding_RNA\n",
    "\n",
    "embedding = adata_omics2.obsm['feat']\n",
    "# embedding = adata_omics1.obsm['feat']\n",
    "# connectivity = kneighbors_graph(adata_omics1.obsm['spatial'], n_neighbors=n_neighbors, include_self=False)\n",
    "# # make connectivity symmetric\n",
    "# connectivity = 0.5 * (connectivity + connectivity.T)\n",
    "embedding_Pro = connectivity.dot(embedding)\n",
    "adata_omics1.obsm['spatial_Profeat'] = embedding_Pro\n",
    "\n",
    "# pca = PCA(n_components=10, random_state=42) \n",
    "# RNA_pca_embedding = pca.fit_transform(embedding_RNA)\n",
    "\n",
    "# pca = PCA(n_components=5, random_state=42) \n",
    "# Pro_pca_embedding = pca.fit_transform(embedding_Pro)\n",
    "\n",
    "# Standardize the data\n",
    "scaler_a = StandardScaler()\n",
    "scaler_b = StandardScaler()\n",
    "\n",
    "data_a_train = scaler_a.fit_transform(embedding_RNA)\n",
    "data_b_train = scaler_b.fit_transform(embedding_Pro)\n",
    "\n",
    "# Define and train the CCA model\n",
    "n_components = 5  # Number of canonical components\n",
    "cca = CCA(n_components=n_components)\n",
    "cca.fit(data_a_train, data_b_train)\n",
    "\n",
    "#adata.obsm['emb_pca'] = np.concatenate((embedding_RNA/np.linalg.norm(embedding_RNA), embedding_Pro), axis=1)"
   ]
  },
  {
   "cell_type": "code",
   "execution_count": 27,
   "id": "800bf021-1d68-4d98-ad42-1b8dd4bc8fef",
   "metadata": {},
   "outputs": [
    {
     "data": {
      "text/plain": [
       "((1992, 5), (1992, 5))"
      ]
     },
     "execution_count": 27,
     "metadata": {},
     "output_type": "execute_result"
    }
   ],
   "source": [
    "data_a_train.shape, data_b_train.shape"
   ]
  },
  {
   "cell_type": "code",
   "execution_count": 28,
   "id": "af004556-dad8-46c2-b07b-7c8fc71862ae",
   "metadata": {},
   "outputs": [],
   "source": [
    "### SOTA\n",
    "from sklearn.mixture import BayesianGaussianMixture\n",
    "from mvlearn.datasets import load_UCImultifeature\n",
    "from mvlearn.embed import GCCA\n",
    "# gcca = GCCA(n_components = 20)\n",
    "# Xs_latents = gcca.fit_transform(Xs)\n",
    "\n",
    "from mvlearn.plotting import crossviews_plot\n",
    "from mvlearn.embed import DCCA\n",
    "from mvlearn.embed import MCCA\n",
    "from mvlearn.embed import KMCCA\n",
    "true_labels = np.array(metadata['label'])\n",
    "n_clusters = len(set(true_labels))\n",
    "# Xs = [data_a_train, data_b_train] # multiview data\n",
    "Xs = [data_a_train-data_a_train.min(), data_b_train-data_b_train.min()] # multiview data\n",
    "# Xs = [embedding_RNA-embedding_RNA.min(), embedding_Pro-embedding_Pro.min()] # multiview data\n",
    "# Xs = [RNA_pca_embedding-RNA_pca_embedding.min(), Pro_pca_embedding-Pro_pca_embedding.min()] # multiview data\n",
    "# mcca = MCCA(n_components = 20, regs = 1)\n",
    "mcca = KMCCA(n_components = 20, kernel = 'poly', regs = 0)\n",
    "mcca.fit(Xs)\n",
    "# MCCA()\n",
    "Xs_latents = mcca.transform(Xs)\n",
    "adata_omics1.obsm['emb_pca'] = np.concatenate((Xs_latents[0,:,:], Xs_latents[1,:,:]), axis=1)\n",
    "# adata_omics1.obsm['emb_pca'] = np.concatenate((embedding_RNA, embedding_Pro), axis=1)"
   ]
  },
  {
   "cell_type": "code",
   "execution_count": 29,
   "id": "11aae818-6b76-4942-93f3-ebef718f0547",
   "metadata": {},
   "outputs": [
    {
     "name": "stdout",
     "output_type": "stream",
     "text": [
      "GBM - no post-preprocessing\n",
      "0.26221360549930056\n",
      "0.47642927050469097\n",
      "GBM - with post-preprocessing\n",
      "0.28531060260505087\n",
      "0.5373047164460094\n"
     ]
    }
   ],
   "source": [
    "gmm = BayesianGaussianMixture(n_components=n_clusters, covariance_type='full', random_state=0, init_params = 'random_from_data', n_init = 5, max_iter = 1000)\n",
    "# gmm.means_init = np.array([embedding[initial_labels == i].mean(axis=0) for i in range(n_clusters)])\n",
    "# Step 4: Fit GMM\n",
    "gmm.fit(adata_omics1.obsm['emb_pca'])\n",
    "cluster_labels = gmm.predict(adata_omics1.obsm['emb_pca'])\n",
    "adata_omics1.obs['domain'] = cluster_labels  \n",
    "from utils import cKD_refine_label\n",
    "refine_cluster_labels = cKD_refine_label(np.array(adata_omics1.obsm['spatial']), cluster_labels, k = 45)\n",
    "print('GBM - no post-preprocessing')\n",
    "print(adjusted_rand_score(true_labels[true_labels>=0], cluster_labels[true_labels>=0]))\n",
    "print(normalized_mutual_info_score(true_labels[true_labels>=0], cluster_labels[true_labels>=0]))\n",
    "print('GBM - with post-preprocessing')\n",
    "print(adjusted_rand_score(true_labels[true_labels>=0], refine_cluster_labels[true_labels>=0]))\n",
    "print(normalized_mutual_info_score(true_labels[true_labels>=0], refine_cluster_labels[true_labels>=0]))"
   ]
  },
  {
   "cell_type": "code",
   "execution_count": 30,
   "id": "07817752-ff14-4ae4-a1d3-df59ee9be65d",
   "metadata": {},
   "outputs": [
    {
     "name": "stdout",
     "output_type": "stream",
     "text": [
      "fitting ...\n",
      "  |======================================================================| 100%\n",
      "------------------------------------------   spatial_RNAfeat   ------------------------------------------\n",
      "Data: CBMCs_nCells_1992_nGenes_100_\n",
      "GBM - no post-preprocessing\n",
      "0.2705134614819952\n",
      "0.49559176792281556\n",
      "GBM - with post-preprocessing\n",
      "0.354738795689078\n",
      "0.5880647331981541\n",
      "SpatialGlue\n",
      "0.2911218605609437\n",
      "0.5290312782908388\n",
      "fitting ...\n",
      "  |======================================================================| 100%\n",
      "------------------------------------------   spatial_Profeat   ------------------------------------------\n",
      "Data: CBMCs_nCells_1992_nGenes_100_\n",
      "GBM - no post-preprocessing\n",
      "0.2366485023046793\n",
      "0.4607413195429489\n",
      "GBM - with post-preprocessing\n",
      "0.2741829107084423\n",
      "0.5561126582683208\n",
      "SpatialGlue\n",
      "0.2911218605609437\n",
      "0.5290312782908388\n",
      "fitting ...\n",
      "  |======================================================================| 100%\n",
      "------------------------------------------   emb_pca   ------------------------------------------\n",
      "Data: CBMCs_nCells_1992_nGenes_100_\n",
      "GBM - no post-preprocessing\n",
      "0.23485448098177658\n",
      "0.47950832153407746\n",
      "GBM - with post-preprocessing\n",
      "0.2617308936115029\n",
      "0.5417121332318782\n",
      "SpatialGlue\n",
      "0.2911218605609437\n",
      "0.5290312782908388\n"
     ]
    }
   ],
   "source": [
    "for key in ['spatial_RNAfeat', 'spatial_Profeat', 'emb_pca']:\n",
    "    if 'feat' in key:\n",
    "        use_pca = False\n",
    "    else:\n",
    "        use_pca = True\n",
    "    tool = 'mclust' # mclust, leiden, and louvain\n",
    "    # clustering(adata_omics1, key='emb_pca', add_key='GBM', n_clusters=n_clusters, method=tool, use_pca=False, increment=0.1)\n",
    "    clustering(adata_omics1, key=key, add_key='GBM', n_clusters=n_clusters, method=tool, use_pca=use_pca, increment=0.1)\n",
    "    cluster_labels = np.array(adata_omics1.obs['GBM'])\n",
    "    from utils import cKD_refine_label\n",
    "    refine_cluster_labels = cKD_refine_label(np.array(adata_omics1.obsm['spatial']), cluster_labels, k = 45)\n",
    "    print('------------------------------------------  ', key, '  ------------------------------------------')\n",
    "    print('Data:', data_name)\n",
    "    print('GBM - no post-preprocessing')\n",
    "    print(adjusted_rand_score(true_labels[true_labels>=0], cluster_labels[true_labels>=0]))\n",
    "    print(normalized_mutual_info_score(true_labels[true_labels>=0], cluster_labels[true_labels>=0]))\n",
    "    print('GBM - with post-preprocessing')\n",
    "    print(adjusted_rand_score(true_labels[true_labels>=0], refine_cluster_labels[true_labels>=0]))\n",
    "    print(normalized_mutual_info_score(true_labels[true_labels>=0], refine_cluster_labels[true_labels>=0]))\n",
    "    print('SpatialGlue')\n",
    "    print(adjusted_rand_score(true_labels[true_labels>=0], adata.obs['SpatialGlue'][true_labels>=0]))\n",
    "    print(normalized_mutual_info_score(true_labels[true_labels>=0], adata.obs['SpatialGlue'][true_labels>=0]))"
   ]
  }
 ],
 "metadata": {
  "kernelspec": {
   "display_name": "Python pygnn",
   "language": "python",
   "name": "pygnn"
  },
  "language_info": {
   "codemirror_mode": {
    "name": "ipython",
    "version": 3
   },
   "file_extension": ".py",
   "mimetype": "text/x-python",
   "name": "python",
   "nbconvert_exporter": "python",
   "pygments_lexer": "ipython3",
   "version": "3.8.20"
  }
 },
 "nbformat": 4,
 "nbformat_minor": 5
}
