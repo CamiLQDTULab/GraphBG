{
 "cells": [
  {
   "cell_type": "code",
   "execution_count": 1,
   "id": "93f86996-2d18-4b4e-87aa-1cb9648a7f55",
   "metadata": {},
   "outputs": [],
   "source": [
    "import os\n",
    "import torch\n",
    "import pandas as pd\n",
    "import scanpy as sc"
   ]
  },
  {
   "cell_type": "code",
   "execution_count": 3,
   "id": "3d7d90e1-3e07-4ee6-a80d-31a5d6c9b411",
   "metadata": {},
   "outputs": [],
   "source": [
    "import SpatialGlue"
   ]
  },
  {
   "cell_type": "code",
   "execution_count": 5,
   "id": "f180d048-17e9-43e7-ba02-c71a16b0b4b3",
   "metadata": {},
   "outputs": [],
   "source": [
    "from scipy.spatial import cKDTree\n",
    "from scipy.stats import mode\n",
    "def cKD_refine_label(coords, labels, k):\n",
    "    # Step 1: Build KD-Tree\n",
    "    tree = cKDTree(coords.copy())\n",
    "\n",
    "    # Step 2: Find k-nearest neighbors for each spot\n",
    "    # k+1 because the closest point is itself\n",
    "    distances, neighbors = tree.query(coords, k=k+1)\n",
    "\n",
    "    # Exclude self-neighbor (first column)\n",
    "    neighbors = neighbors[:, 1:]\n",
    "\n",
    "    # Step 3: Reassign labels\n",
    "    new_labels = labels.copy()\n",
    "    for i, nbrs in enumerate(neighbors):\n",
    "        # Get the labels of neighboring spots\n",
    "        neighbor_labels = labels[nbrs]\n",
    "        # Find the most common label among neighbors\n",
    "        most_common_label = mode(neighbor_labels, keepdims=True).mode[0]\n",
    "        # Reassign the label\n",
    "        new_labels[i] = most_common_label\n",
    "    return (new_labels)"
   ]
  },
  {
   "cell_type": "code",
   "execution_count": 7,
   "id": "d1b531fb-8c33-40e8-9bb7-a63cb9a72d8e",
   "metadata": {},
   "outputs": [
    {
     "name": "stdout",
     "output_type": "stream",
     "text": [
      "Requirement already satisfied: torch in /opt/anaconda3/envs/SpatialGlue/lib/python3.8/site-packages (2.4.1)\n",
      "Requirement already satisfied: filelock in /opt/anaconda3/envs/SpatialGlue/lib/python3.8/site-packages (from torch) (3.16.1)\n",
      "Requirement already satisfied: typing-extensions>=4.8.0 in /opt/anaconda3/envs/SpatialGlue/lib/python3.8/site-packages (from torch) (4.12.2)\n",
      "Requirement already satisfied: sympy in /opt/anaconda3/envs/SpatialGlue/lib/python3.8/site-packages (from torch) (1.13.3)\n",
      "Requirement already satisfied: networkx in /opt/anaconda3/envs/SpatialGlue/lib/python3.8/site-packages (from torch) (3.1)\n",
      "Requirement already satisfied: jinja2 in /opt/anaconda3/envs/SpatialGlue/lib/python3.8/site-packages (from torch) (3.1.6)\n",
      "Requirement already satisfied: fsspec in /opt/anaconda3/envs/SpatialGlue/lib/python3.8/site-packages (from torch) (2025.3.0)\n",
      "Requirement already satisfied: MarkupSafe>=2.0 in /opt/anaconda3/envs/SpatialGlue/lib/python3.8/site-packages (from jinja2->torch) (2.1.5)\n",
      "Requirement already satisfied: mpmath<1.4,>=1.1.0 in /opt/anaconda3/envs/SpatialGlue/lib/python3.8/site-packages (from sympy->torch) (1.3.0)\n",
      "Note: you may need to restart the kernel to use updated packages.\n"
     ]
    }
   ],
   "source": [
    "pip install torch"
   ]
  },
  {
   "cell_type": "code",
   "execution_count": 9,
   "id": "28cd4451-f6da-49db-a5ba-ff2e3e6d85b2",
   "metadata": {},
   "outputs": [],
   "source": [
    "from numpy.random import default_rng\n",
    "import scanpy as sc\n",
    "# import squidpy as sq\n",
    "from anndata import AnnData\n",
    "import scipy\n",
    "# sc.logging.print_header()\n",
    "from sklearn.metrics.cluster import adjusted_rand_score\n",
    "import numpy as np\n",
    "import pandas as pd\n",
    "import seaborn as sns\n",
    "import os\n",
    "import torch\n",
    "import pandas as pd\n",
    "import scanpy as sc\n",
    "from sklearn import metrics\n",
    "import multiprocessing as mp\n",
    "from sklearn.metrics.cluster import normalized_mutual_info_score, homogeneity_score, completeness_score\n",
    "from numpy import genfromtxt"
   ]
  },
  {
   "cell_type": "code",
   "execution_count": 11,
   "id": "80f53116-951b-4235-a15e-190ded7c2110",
   "metadata": {},
   "outputs": [],
   "source": [
    "file_fold = '/Users/melancholy/Desktop/SpatialGlue/Data_SpatialGlue/Dataset7_Mouse_Brain_ATAC' \n",
    "\n",
    "adata_omics1 = sc.read_h5ad(file_fold + '/adata_RNA.h5ad')\n",
    "adata_omics2 = sc.read_h5ad(file_fold + '/adata_peaks_normalized.h5ad')\n",
    "\n",
    "adata_omics1.var_names_make_unique()\n",
    "adata_omics2.var_names_make_unique()"
   ]
  },
  {
   "cell_type": "code",
   "execution_count": 13,
   "id": "c5623119-56a2-4d17-9c73-be6a1c5c1fb7",
   "metadata": {},
   "outputs": [
    {
     "data": {
      "text/plain": [
       "(AnnData object with n_obs × n_vars = 9215 × 22914\n",
       "     obs: 'nCount_Spatial', 'nFeature_Spatial', 'nCount_SCT', 'nFeature_SCT', 'nCount_ATAC', 'nFeature_ATAC', 'nCount_peaks', 'nFeature_peaks', 'RNA_clusters', 'ATAC_clusters'\n",
       "     var: 'name'\n",
       "     obsm: 'X_pca', 'X_umap', 'spatial',\n",
       " AnnData object with n_obs × n_vars = 9215 × 121068\n",
       "     obs: 'nCount_Spatial', 'nFeature_Spatial', 'nCount_SCT', 'nFeature_SCT', 'nCount_ATAC', 'nFeature_ATAC', 'nCount_peaks', 'nFeature_peaks', 'RNA_clusters', 'ATAC_clusters'\n",
       "     var: 'count', 'percentile'\n",
       "     uns: 'ATAC', 'ATAC_clusters_colors', 'umap'\n",
       "     obsm: 'X_lsi', 'X_pca', 'X_umap', 'spatial'\n",
       "     obsp: 'ATAC_connectivities', 'ATAC_distances')"
      ]
     },
     "execution_count": 13,
     "metadata": {},
     "output_type": "execute_result"
    }
   ],
   "source": [
    "adata_omics1, adata_omics2"
   ]
  },
  {
   "cell_type": "markdown",
   "id": "5a80af99-bcbf-4d0d-ab6e-ebcc48d40583",
   "metadata": {},
   "source": [
    "## SpatialGlue"
   ]
  },
  {
   "cell_type": "code",
   "execution_count": 15,
   "id": "40b6581e-e683-4ecf-9480-1da3079b0ac1",
   "metadata": {},
   "outputs": [],
   "source": [
    "# Specify data type\n",
    "data_type = '10x'\n",
    "# Fix random seed\n",
    "from SpatialGlue.preprocess import fix_seed\n",
    "random_seed = 2022\n",
    "fix_seed(random_seed)"
   ]
  },
  {
   "cell_type": "code",
   "execution_count": 17,
   "id": "5015e535-2c09-49f4-a8a7-bcad49a41809",
   "metadata": {},
   "outputs": [],
   "source": [
    "from SpatialGlue.preprocess import clr_normalize_each_cell, pca, lsi"
   ]
  },
  {
   "cell_type": "code",
   "execution_count": 19,
   "id": "6d8aa069-a3b6-4b0a-8fb0-0a9f4a9750a9",
   "metadata": {},
   "outputs": [],
   "source": [
    "# RNA\n",
    "sc.pp.filter_genes(adata_omics1, min_cells=10)\n",
    "sc.pp.filter_cells(adata_omics1, min_genes=200)\n",
    "\n",
    "# sc.pp.highly_variable_genes(adata_omics1, flavor=\"seurat_v3\", n_top_genes=3000)\n",
    "sc.pp.normalize_total(adata_omics1, target_sum=1e4)\n",
    "sc.pp.log1p(adata_omics1)\n",
    "sc.pp.scale(adata_omics1)\n",
    "\n",
    "# adata_omics1_high =  adata_omics1[:, adata_omics1.var['highly_variable']]\n",
    "adata_omics1.obsm['feat'] = pca(adata_omics1, n_comps=50)"
   ]
  },
  {
   "cell_type": "code",
   "execution_count": 23,
   "id": "19e5880e-ced5-42a7-8f2a-e6de7cf2c24d",
   "metadata": {},
   "outputs": [],
   "source": [
    "# ATAC\n",
    "adata_omics2 = adata_omics2[adata_omics1.obs_names].copy() # .obsm['X_lsi'] represents the dimension reduced feature\n",
    "if 'X_lsi' not in adata_omics2.obsm.keys():\n",
    "    # sc.pp.highly_variable_genes(adata_omics2, flavor=\"seurat_v3\", n_top_genes=3000)\n",
    "    lsi(adata_omics2, use_highly_variable=False, n_components=51)\n",
    "\n",
    "adata_omics2.obsm['feat'] = adata_omics2.obsm['X_lsi'].copy()"
   ]
  },
  {
   "cell_type": "code",
   "execution_count": 25,
   "id": "9c0cd635-c126-4b2f-9e9d-11df05c8bb7b",
   "metadata": {},
   "outputs": [],
   "source": [
    "import pandas as pd\n",
    "\n",
    "df_omics1 = pd.DataFrame(adata_omics1.X, index=adata_omics1.obs_names)\n",
    "df_omics2 = pd.DataFrame(adata_omics2.X, index=adata_omics2.obs_names)\n",
    "common_samples = df_omics1.index.intersection(df_omics2.index)\n",
    "adata_omics2 = adata_omics2[adata_omics2.obs.index.isin(common_samples)]\n",
    "adata_omics1 = adata_omics1[adata_omics1.obs.index.isin(common_samples)]"
   ]
  },
  {
   "cell_type": "code",
   "execution_count": 27,
   "id": "5b5f4d8c-b3d3-440f-8a42-50cf7e1331ce",
   "metadata": {},
   "outputs": [
    {
     "name": "stderr",
     "output_type": "stream",
     "text": [
      "/opt/anaconda3/envs/SpatialGlue/lib/python3.8/site-packages/SpatialGlue/preprocess.py:41: ImplicitModificationWarning: Trying to modify attribute `._uns` of view, initializing view as actual.\n",
      "  adata_omics1.uns['adj_spatial'] = adj_omics1\n",
      "/opt/anaconda3/envs/SpatialGlue/lib/python3.8/site-packages/SpatialGlue/preprocess.py:46: ImplicitModificationWarning: Trying to modify attribute `._uns` of view, initializing view as actual.\n",
      "  adata_omics2.uns['adj_spatial'] = adj_omics2\n"
     ]
    }
   ],
   "source": [
    "from SpatialGlue.preprocess import construct_neighbor_graph\n",
    "data = construct_neighbor_graph(adata_omics1, adata_omics2, datatype=data_type)"
   ]
  },
  {
   "cell_type": "code",
   "execution_count": 29,
   "id": "17e4d09e-baa2-4df8-a268-ecaf9e2778ef",
   "metadata": {},
   "outputs": [],
   "source": [
    "from SpatialGlue.SpatialGlue_pyG import Train_SpatialGlue"
   ]
  },
  {
   "cell_type": "code",
   "execution_count": 31,
   "id": "eab7147b-a2c8-430c-b0d0-22fe99017bd8",
   "metadata": {},
   "outputs": [
    {
     "name": "stdout",
     "output_type": "stream",
     "text": [
      "Using device: cpu\n"
     ]
    }
   ],
   "source": [
    "import torch\n",
    "\n",
    "device = torch.device(\"cuda\" if torch.cuda.is_available() else \"cpu\")\n",
    "print(f\"Using device: {device}\")"
   ]
  },
  {
   "cell_type": "code",
   "execution_count": 33,
   "id": "cea6e69c-83c1-404e-838d-2d72f7d21589",
   "metadata": {},
   "outputs": [
    {
     "name": "stderr",
     "output_type": "stream",
     "text": [
      "/opt/anaconda3/envs/SpatialGlue/lib/python3.8/site-packages/SpatialGlue/preprocess.py:132: UserWarning: torch.sparse.SparseTensor(indices, values, shape, *, device=) is deprecated.  Please use torch.sparse_coo_tensor(indices, values, shape, dtype=, device=). (Triggered internally at /Users/runner/work/pytorch/pytorch/pytorch/torch/csrc/utils/tensor_new.cpp:643.)\n",
      "  return torch.sparse.FloatTensor(indices, values, shape)\n"
     ]
    }
   ],
   "source": [
    "model = Train_SpatialGlue(data, datatype=data_type, device=device)"
   ]
  },
  {
   "cell_type": "code",
   "execution_count": 34,
   "id": "06a64cf7-2505-403c-b074-80b82c517152",
   "metadata": {},
   "outputs": [
    {
     "name": "stderr",
     "output_type": "stream",
     "text": [
      "  0%|                                                   | 0/200 [00:00<?, ?it/s]/opt/anaconda3/envs/SpatialGlue/lib/python3.8/site-packages/SpatialGlue/model.py:212: UserWarning: Implicit dimension choice for softmax has been deprecated. Change the call to include dim=X as an argument.\n",
      "  self.alpha = F.softmax(torch.squeeze(self.vu) + 1e-6)\n",
      "100%|█████████████████████████████████████████| 200/200 [00:16<00:00, 12.40it/s]"
     ]
    },
    {
     "name": "stdout",
     "output_type": "stream",
     "text": [
      "Model training finished!\n",
      "\n"
     ]
    },
    {
     "name": "stderr",
     "output_type": "stream",
     "text": [
      "\n"
     ]
    }
   ],
   "source": [
    "# train model\n",
    "output = model.train()"
   ]
  },
  {
   "cell_type": "code",
   "execution_count": 69,
   "id": "d502b4ef-4dd2-4e02-a4b9-88140e2960ad",
   "metadata": {},
   "outputs": [],
   "source": [
    "adata = adata_omics1.copy()\n",
    "adata.obsm['emb_latent_omics1'] = output['emb_latent_omics1']\n",
    "adata.obsm['emb_latent_omics2'] = output['emb_latent_omics2']\n",
    "adata.obsm['SpatialGlue'] = output['SpatialGlue']\n",
    "adata.obsm['alpha'] = output['alpha']\n",
    "adata.obsm['alpha_omics1'] = output['alpha_omics1']\n",
    "adata.obsm['alpha_omics2'] = output['alpha_omics2']"
   ]
  },
  {
   "cell_type": "code",
   "execution_count": 43,
   "id": "11971b5f-53f7-4d9e-bf38-fb47d4200d4d",
   "metadata": {},
   "outputs": [
    {
     "name": "stderr",
     "output_type": "stream",
     "text": [
      "R[write to console]:                    __           __ \n",
      "   ____ ___  _____/ /_  _______/ /_\n",
      "  / __ `__ \\/ ___/ / / / / ___/ __/\n",
      " / / / / / / /__/ / /_/ (__  ) /_  \n",
      "/_/ /_/ /_/\\___/_/\\__,_/____/\\__/   version 6.1\n",
      "Type 'citation(\"mclust\")' for citing this R package in publications.\n",
      "\n"
     ]
    },
    {
     "name": "stdout",
     "output_type": "stream",
     "text": [
      "fitting ...\n",
      "  |======================================================================| 100%\n"
     ]
    }
   ],
   "source": [
    "# we set 'mclust' as clustering tool by default. Users can also select 'leiden' and 'louvain'\n",
    "from SpatialGlue.utils import clustering\n",
    "tool = 'mclust' # mclust, leiden, and louvain\n",
    "clustering(adata, key='SpatialGlue', add_key='SpatialGlue', n_clusters=18, method=tool, use_pca=True, start=0.9, end=1.1, increment=0.02)"
   ]
  },
  {
   "cell_type": "markdown",
   "id": "4a569b03-0fdb-4448-aed0-e08dc00f8d96",
   "metadata": {},
   "source": [
    "## GraphGBM"
   ]
  },
  {
   "cell_type": "code",
   "execution_count": 44,
   "id": "b8dde93d-1f00-4283-b9a1-57eaa8514290",
   "metadata": {},
   "outputs": [],
   "source": [
    "from sklearn.decomposition import PCA\n",
    "# from GraphST.utils import refine_label\n",
    "from sklearn.preprocessing import StandardScaler\n",
    "# from GraphST.utils import mclust_R\n",
    "import numpy as np\n",
    "from numpy import dot, array\n",
    "from sklearn.cross_decomposition import CCA\n",
    "from sklearn.preprocessing import StandardScaler\n",
    "from sklearn.neighbors import kneighbors_graph\n",
    "from sklearn.mixture import BayesianGaussianMixture\n",
    "from mvlearn.datasets import load_UCImultifeature\n",
    "from mvlearn.embed import GCCA\n",
    "\n",
    "from mvlearn.plotting import crossviews_plot\n",
    "from mvlearn.embed import DCCA\n",
    "from mvlearn.embed import MCCA\n",
    "from mvlearn.embed import KMCCA"
   ]
  },
  {
   "cell_type": "code",
   "execution_count": 47,
   "id": "cf5b3644-1340-46b0-a5cc-f9f18a61a77e",
   "metadata": {},
   "outputs": [
    {
     "data": {
      "text/html": [
       "<style>#sk-container-id-1 {color: black;}#sk-container-id-1 pre{padding: 0;}#sk-container-id-1 div.sk-toggleable {background-color: white;}#sk-container-id-1 label.sk-toggleable__label {cursor: pointer;display: block;width: 100%;margin-bottom: 0;padding: 0.3em;box-sizing: border-box;text-align: center;}#sk-container-id-1 label.sk-toggleable__label-arrow:before {content: \"▸\";float: left;margin-right: 0.25em;color: #696969;}#sk-container-id-1 label.sk-toggleable__label-arrow:hover:before {color: black;}#sk-container-id-1 div.sk-estimator:hover label.sk-toggleable__label-arrow:before {color: black;}#sk-container-id-1 div.sk-toggleable__content {max-height: 0;max-width: 0;overflow: hidden;text-align: left;background-color: #f0f8ff;}#sk-container-id-1 div.sk-toggleable__content pre {margin: 0.2em;color: black;border-radius: 0.25em;background-color: #f0f8ff;}#sk-container-id-1 input.sk-toggleable__control:checked~div.sk-toggleable__content {max-height: 200px;max-width: 100%;overflow: auto;}#sk-container-id-1 input.sk-toggleable__control:checked~label.sk-toggleable__label-arrow:before {content: \"▾\";}#sk-container-id-1 div.sk-estimator input.sk-toggleable__control:checked~label.sk-toggleable__label {background-color: #d4ebff;}#sk-container-id-1 div.sk-label input.sk-toggleable__control:checked~label.sk-toggleable__label {background-color: #d4ebff;}#sk-container-id-1 input.sk-hidden--visually {border: 0;clip: rect(1px 1px 1px 1px);clip: rect(1px, 1px, 1px, 1px);height: 1px;margin: -1px;overflow: hidden;padding: 0;position: absolute;width: 1px;}#sk-container-id-1 div.sk-estimator {font-family: monospace;background-color: #f0f8ff;border: 1px dotted black;border-radius: 0.25em;box-sizing: border-box;margin-bottom: 0.5em;}#sk-container-id-1 div.sk-estimator:hover {background-color: #d4ebff;}#sk-container-id-1 div.sk-parallel-item::after {content: \"\";width: 100%;border-bottom: 1px solid gray;flex-grow: 1;}#sk-container-id-1 div.sk-label:hover label.sk-toggleable__label {background-color: #d4ebff;}#sk-container-id-1 div.sk-serial::before {content: \"\";position: absolute;border-left: 1px solid gray;box-sizing: border-box;top: 0;bottom: 0;left: 50%;z-index: 0;}#sk-container-id-1 div.sk-serial {display: flex;flex-direction: column;align-items: center;background-color: white;padding-right: 0.2em;padding-left: 0.2em;position: relative;}#sk-container-id-1 div.sk-item {position: relative;z-index: 1;}#sk-container-id-1 div.sk-parallel {display: flex;align-items: stretch;justify-content: center;background-color: white;position: relative;}#sk-container-id-1 div.sk-item::before, #sk-container-id-1 div.sk-parallel-item::before {content: \"\";position: absolute;border-left: 1px solid gray;box-sizing: border-box;top: 0;bottom: 0;left: 50%;z-index: -1;}#sk-container-id-1 div.sk-parallel-item {display: flex;flex-direction: column;z-index: 1;position: relative;background-color: white;}#sk-container-id-1 div.sk-parallel-item:first-child::after {align-self: flex-end;width: 50%;}#sk-container-id-1 div.sk-parallel-item:last-child::after {align-self: flex-start;width: 50%;}#sk-container-id-1 div.sk-parallel-item:only-child::after {width: 0;}#sk-container-id-1 div.sk-dashed-wrapped {border: 1px dashed gray;margin: 0 0.4em 0.5em 0.4em;box-sizing: border-box;padding-bottom: 0.4em;background-color: white;}#sk-container-id-1 div.sk-label label {font-family: monospace;font-weight: bold;display: inline-block;line-height: 1.2em;}#sk-container-id-1 div.sk-label-container {text-align: center;}#sk-container-id-1 div.sk-container {/* jupyter's `normalize.less` sets `[hidden] { display: none; }` but bootstrap.min.css set `[hidden] { display: none !important; }` so we also need the `!important` here to be able to override the default hidden behavior on the sphinx rendered scikit-learn.org. See: https://github.com/scikit-learn/scikit-learn/issues/21755 */display: inline-block !important;position: relative;}#sk-container-id-1 div.sk-text-repr-fallback {display: none;}</style><div id=\"sk-container-id-1\" class=\"sk-top-container\"><div class=\"sk-text-repr-fallback\"><pre>CCA(n_components=5)</pre><b>In a Jupyter environment, please rerun this cell to show the HTML representation or trust the notebook. <br />On GitHub, the HTML representation is unable to render, please try loading this page with nbviewer.org.</b></div><div class=\"sk-container\" hidden><div class=\"sk-item\"><div class=\"sk-estimator sk-toggleable\"><input class=\"sk-toggleable__control sk-hidden--visually\" id=\"sk-estimator-id-1\" type=\"checkbox\" checked><label for=\"sk-estimator-id-1\" class=\"sk-toggleable__label sk-toggleable__label-arrow\">CCA</label><div class=\"sk-toggleable__content\"><pre>CCA(n_components=5)</pre></div></div></div></div></div>"
      ],
      "text/plain": [
       "CCA(n_components=5)"
      ]
     },
     "execution_count": 47,
     "metadata": {},
     "output_type": "execute_result"
    }
   ],
   "source": [
    "embedding = adata_omics1.obsm['feat']\n",
    "n_neighbors = 4\n",
    "connectivity = kneighbors_graph(adata_omics1.obsm['spatial'], n_neighbors=n_neighbors, include_self=False)\n",
    "# make connectivity symmetric\n",
    "connectivity = 0.5 * (connectivity + connectivity.T)\n",
    "embedding_RNA = connectivity.dot(embedding)\n",
    "adata_omics1.obsm['spatial_RNAfeat'] = embedding_RNA\n",
    "\n",
    "embedding = adata_omics2.obsm['feat']\n",
    "embedding_Pro = connectivity.dot(embedding)\n",
    "adata_omics1.obsm['spatial_Profeat'] = embedding_Pro\n",
    "\n",
    "# Standardize the data\n",
    "scaler_a = StandardScaler()\n",
    "scaler_b = StandardScaler()\n",
    "\n",
    "data_a_train = scaler_a.fit_transform(embedding_RNA)\n",
    "data_b_train = scaler_b.fit_transform(embedding_Pro)\n",
    "\n",
    "# Define and train the CCA model\n",
    "n_components = 5  # Number of canonical components\n",
    "cca = CCA(n_components=n_components)\n",
    "cca.fit(data_a_train, data_b_train)"
   ]
  },
  {
   "cell_type": "code",
   "execution_count": 49,
   "id": "880f89b1-7893-49d0-bf1d-76e340656496",
   "metadata": {},
   "outputs": [],
   "source": [
    "### SOTA\n",
    "from sklearn.mixture import BayesianGaussianMixture\n",
    "from mvlearn.datasets import load_UCImultifeature\n",
    "from mvlearn.embed import GCCA\n",
    "\n",
    "from mvlearn.plotting import crossviews_plot\n",
    "from mvlearn.embed import DCCA\n",
    "from mvlearn.embed import MCCA\n",
    "from mvlearn.embed import KMCCA\n",
    "\n",
    "Xs = [data_a_train-data_a_train.min(), data_b_train-data_b_train.min()] # multiview data\n",
    "mcca = KMCCA(n_components = 20, kernel = 'poly', regs = 1)\n",
    "mcca.fit(Xs)\n",
    "\n",
    "Xs_latents = mcca.transform(Xs)\n",
    "adata_omics1.obsm['emb_pca'] = np.concatenate((Xs_latents[0,:,:], Xs_latents[1,:,:]), axis=1)"
   ]
  },
  {
   "cell_type": "code",
   "execution_count": 50,
   "id": "5e6cf4e6-07ea-459a-af7f-fcfa910e08ae",
   "metadata": {},
   "outputs": [],
   "source": [
    "# GraphBGM: use BayesianGaussianMixture\n",
    "gmm = BayesianGaussianMixture(n_components=18, covariance_type='full', random_state=42, init_params = 'random_from_data', n_init = 5, max_iter = 1000)\n",
    "\n",
    "# Step 4: Fit GMM\n",
    "gmm.fit(adata_omics1.obsm['emb_pca'])\n",
    "cluster_labels = gmm.predict(adata_omics1.obsm['emb_pca'])\n",
    "refine_cluster_labels = cKD_refine_label(np.array(adata_omics1.obsm['spatial']), cluster_labels, k = 45)\n",
    "adata_omics1.obs['GraphBGM'] = refine_cluster_labels"
   ]
  },
  {
   "cell_type": "code",
   "execution_count": 61,
   "id": "b9b71d60-49c6-4f78-afae-9b7c3725d495",
   "metadata": {},
   "outputs": [],
   "source": [
    "from esda.moran import Moran\n",
    "from libpysal.weights import DistanceBand\n",
    "import numpy as np\n",
    "import pandas as pd"
   ]
  },
  {
   "cell_type": "code",
   "execution_count": 79,
   "id": "0e2fc960-bf71-48a5-b5e8-bc43ba7b5344",
   "metadata": {},
   "outputs": [],
   "source": [
    "bgm_pred = adata_omics1.obs['GraphBGM']\n",
    "spatialglue_pred = adata.obsm['SpatialGlue']"
   ]
  },
  {
   "cell_type": "code",
   "execution_count": 95,
   "id": "34200b8b-84e9-4c62-aa74-4506e25f4231",
   "metadata": {},
   "outputs": [
    {
     "name": "stdout",
     "output_type": "stream",
     "text": [
      "        Method   Moran_I\n",
      "0     GraphBGM  0.698833\n",
      "1  SpatialGlue  0.232364\n"
     ]
    }
   ],
   "source": [
    "import numpy as np\n",
    "import pandas as pd\n",
    "from libpysal.weights import DistanceBand\n",
    "from esda.moran import Moran\n",
    "\n",
    "results = []\n",
    "\n",
    "# Lấy spatialglue_pred_dim0\n",
    "spatialglue_pred_dim0 = spatialglue_pred[:, 0]  # shape (9196,)\n",
    "\n",
    "# Khai báo phương pháp và tên tương ứng\n",
    "methods = [bgm_pred, spatialglue_pred_dim0]\n",
    "names = ['GraphBGM', 'SpatialGlue']\n",
    "\n",
    "coords = np.array(adata.obsm['spatial'])[:, :2]\n",
    "\n",
    "# Lặp qua hai phương pháp\n",
    "for name, method in zip(names, methods):\n",
    "    labels = np.array(method).astype(float)\n",
    "\n",
    "    w = DistanceBand(coords, threshold=10, binary=True)\n",
    "\n",
    "    moran = Moran(labels, w)\n",
    "\n",
    "    results.append({\n",
    "        'Method': name,    # Ghi tên (GraphBGM hoặc SpatialGlue)\n",
    "        'Moran_I': moran.I,\n",
    "    })\n",
    "\n",
    "# Chuyển thành DataFrame\n",
    "df_moran = pd.DataFrame(results)\n",
    "print(df_moran)\n",
    "df_moran.to_csv('brain_moran_results_ATAC.csv', index=False)"
   ]
  }
 ],
 "metadata": {
  "kernelspec": {
   "display_name": "SpatialGlue",
   "language": "python",
   "name": "spatialglue"
  },
  "language_info": {
   "codemirror_mode": {
    "name": "ipython",
    "version": 3
   },
   "file_extension": ".py",
   "mimetype": "text/x-python",
   "name": "python",
   "nbconvert_exporter": "python",
   "pygments_lexer": "ipython3",
   "version": "3.8.18"
  }
 },
 "nbformat": 4,
 "nbformat_minor": 5
}
