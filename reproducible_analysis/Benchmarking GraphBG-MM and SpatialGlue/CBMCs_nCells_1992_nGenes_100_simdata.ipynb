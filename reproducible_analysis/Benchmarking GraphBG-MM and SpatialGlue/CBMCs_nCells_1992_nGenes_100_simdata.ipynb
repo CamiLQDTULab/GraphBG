{
 "cells": [
  {
   "cell_type": "code",
   "execution_count": null,
   "id": "93f86996-2d18-4b4e-87aa-1cb9648a7f55",
   "metadata": {},
   "outputs": [],
   "source": [
    "import os\n",
    "import torch\n",
    "import pandas as pd\n",
    "import scanpy as sc"
   ]
  },
  {
   "cell_type": "code",
   "execution_count": null,
   "id": "3d7d90e1-3e07-4ee6-a80d-31a5d6c9b411",
   "metadata": {},
   "outputs": [],
   "source": [
    "import SpatialGlue"
   ]
  },
  {
   "cell_type": "code",
   "execution_count": null,
   "id": "f180d048-17e9-43e7-ba02-c71a16b0b4b3",
   "metadata": {},
   "outputs": [],
   "source": [
    "from scipy.spatial import cKDTree\n",
    "from scipy.stats import mode\n",
    "def cKD_refine_label(coords, labels, k):\n",
    "    # Step 1: Build KD-Tree\n",
    "    tree = cKDTree(coords.copy())\n",
    "\n",
    "    # Step 2: Find k-nearest neighbors for each spot\n",
    "    # k+1 because the closest point is itself\n",
    "    distances, neighbors = tree.query(coords, k=k+1)\n",
    "\n",
    "    # Exclude self-neighbor (first column)\n",
    "    neighbors = neighbors[:, 1:]\n",
    "\n",
    "    # Step 3: Reassign labels\n",
    "    new_labels = labels.copy()\n",
    "    for i, nbrs in enumerate(neighbors):\n",
    "        # Get the labels of neighboring spots\n",
    "        neighbor_labels = labels[nbrs]\n",
    "        # Find the most common label among neighbors\n",
    "        most_common_label = mode(neighbor_labels, keepdims=True).mode[0]\n",
    "        # Reassign the label\n",
    "        new_labels[i] = most_common_label\n",
    "    return (new_labels)"
   ]
  },
  {
   "cell_type": "code",
   "execution_count": null,
   "id": "d1b531fb-8c33-40e8-9bb7-a63cb9a72d8e",
   "metadata": {},
   "outputs": [],
   "source": [
    "pip install torch"
   ]
  },
  {
   "cell_type": "code",
   "execution_count": null,
   "id": "28cd4451-f6da-49db-a5ba-ff2e3e6d85b2",
   "metadata": {},
   "outputs": [],
   "source": [
    "from numpy.random import default_rng\n",
    "import scanpy as sc\n",
    "# import squidpy as sq\n",
    "from anndata import AnnData\n",
    "import scipy\n",
    "# sc.logging.print_header()\n",
    "from sklearn.metrics.cluster import adjusted_rand_score\n",
    "import numpy as np\n",
    "import pandas as pd\n",
    "import seaborn as sns\n",
    "import os\n",
    "import torch\n",
    "import pandas as pd\n",
    "import scanpy as sc\n",
    "from sklearn import metrics\n",
    "import multiprocessing as mp\n",
    "from sklearn.metrics.cluster import normalized_mutual_info_score, homogeneity_score, completeness_score\n",
    "from numpy import genfromtxt"
   ]
  },
  {
   "cell_type": "code",
   "execution_count": null,
   "id": "80f53116-951b-4235-a15e-190ded7c2110",
   "metadata": {},
   "outputs": [],
   "source": [
    "# data_name = 'CBMCs_nCells_10201_nGenes_100_'\n",
    "RNA_counts = pd.read_csv('/Users/melancholy/Desktop/SpatialGlue/scDesign3/Amplify_CBMCs_nCells_1992_nGenes_100_RNA.csv', delimiter=',')\n",
    "ADT_counts = pd.read_csv('/Users/melancholy/Desktop/SpatialGlue/scDesign3/Amplify_CBMCs_nCells_1992_nGenes_100_ADT.csv', delimiter=',')\n",
    "metadata = pd.read_csv('/Users/melancholy/Desktop/SpatialGlue/scDesign3/Amplify_CBMCs_nCells_1992_nGenes_100_metadata.csv', delimiter=',') "
   ]
  },
  {
   "cell_type": "code",
   "execution_count": null,
   "id": "1af38e8d-93f7-4145-a6e2-a50cd1598358",
   "metadata": {},
   "outputs": [],
   "source": [
    "# Create anndata obj\n",
    "adata_omics1 = AnnData(RNA_counts.values, obsm={\"spatial\": metadata.iloc[:,2:4].values}, uns={\"spatial\": metadata.iloc[:,2:4].values})\n",
    "adata_omics1.obs_names = [f\"Cell_{i:d}\" for i in range(adata_omics1.n_obs)]\n",
    "adata_omics1.var_names = list(RNA_counts.columns.values)\n",
    "adata_omics2 = AnnData(ADT_counts.values, obsm={\"spatial\": metadata.iloc[:,2:4].values}, uns={\"spatial\": metadata.iloc[:,2:4].values})\n",
    "adata_omics2.obs_names = [f\"Cell_{i:d}\" for i in range(adata_omics1.n_obs)]\n",
    "adata_omics2.var_names = list(ADT_counts.columns.values)"
   ]
  },
  {
   "cell_type": "code",
   "execution_count": null,
   "id": "c5623119-56a2-4d17-9c73-be6a1c5c1fb7",
   "metadata": {},
   "outputs": [],
   "source": [
    "adata_omics1"
   ]
  },
  {
   "cell_type": "markdown",
   "id": "5a80af99-bcbf-4d0d-ab6e-ebcc48d40583",
   "metadata": {},
   "source": [
    "## SpatialGlue"
   ]
  },
  {
   "cell_type": "code",
   "execution_count": null,
   "id": "40b6581e-e683-4ecf-9480-1da3079b0ac1",
   "metadata": {},
   "outputs": [],
   "source": [
    "# Specify data type\n",
    "data_type = '10x'\n",
    "# Fix random seed\n",
    "from SpatialGlue.preprocess import fix_seed\n",
    "random_seed = 2022\n",
    "fix_seed(random_seed)"
   ]
  },
  {
   "cell_type": "code",
   "execution_count": null,
   "id": "5015e535-2c09-49f4-a8a7-bcad49a41809",
   "metadata": {},
   "outputs": [],
   "source": [
    "from SpatialGlue.preprocess import clr_normalize_each_cell, pca"
   ]
  },
  {
   "cell_type": "code",
   "execution_count": null,
   "id": "94140815-5c76-48be-a0f7-b85abac14087",
   "metadata": {},
   "outputs": [],
   "source": [
    "sc.pp.filter_genes(adata_omics2, min_cells=0)\n",
    "adata_omics2 = adata_omics2[adata_omics1.obs_names].copy()"
   ]
  },
  {
   "cell_type": "code",
   "execution_count": null,
   "id": "52306f93-30af-4fe1-b814-a9c18777c37b",
   "metadata": {},
   "outputs": [],
   "source": [
    "# Protein\n",
    "adata_omics2 = clr_normalize_each_cell(adata_omics2)\n",
    "adata_omics2.obsm['feat'] = pca(adata_omics2, n_comps=adata_omics2.n_vars-1)"
   ]
  },
  {
   "cell_type": "code",
   "execution_count": null,
   "id": "153c314c-c696-4f03-9a1a-61233d2b758c",
   "metadata": {},
   "outputs": [],
   "source": [
    "from scipy.sparse import issparse, csr_matrix\n",
    "# Kiểm tra dữ liệu và chuyển đổi nếu cần\n",
    "if not issparse(adata_omics2.X):\n",
    "    adata_omics2.X = csr_matrix(adata_omics2.X)"
   ]
  },
  {
   "cell_type": "code",
   "execution_count": null,
   "id": "0e6bcaa6-4d5d-4c3b-8591-476323b20ac9",
   "metadata": {},
   "outputs": [],
   "source": [
    "#RNA\n",
    "sc.pp.filter_genes(adata_omics1, min_cells=0)\n",
    "sc.pp.filter_cells(adata_omics1, min_genes=0)"
   ]
  },
  {
   "cell_type": "code",
   "execution_count": null,
   "id": "9246c6c4-dfbe-45dd-bcdf-a842c8648d17",
   "metadata": {},
   "outputs": [],
   "source": [
    "# sc.pp.highly_variable_genes(adata_omics1, flavor=\"seurat_v3\", n_top_genes=500)\n",
    "sc.pp.normalize_total(adata_omics1, target_sum=1e4)\n",
    "sc.pp.log1p(adata_omics1)"
   ]
  },
  {
   "cell_type": "code",
   "execution_count": null,
   "id": "a07f2495-a261-468f-8a69-260d4cb6c1d2",
   "metadata": {},
   "outputs": [],
   "source": [
    "adata_omics1.obsm['feat'] = pca(adata_omics1, n_comps=adata_omics2.n_vars-1)"
   ]
  },
  {
   "cell_type": "code",
   "execution_count": null,
   "id": "9c0cd635-c126-4b2f-9e9d-11df05c8bb7b",
   "metadata": {},
   "outputs": [],
   "source": [
    "import pandas as pd\n",
    "\n",
    "df_omics1 = pd.DataFrame(adata_omics1.X, index=adata_omics1.obs_names)\n",
    "df_omics2 = pd.DataFrame(adata_omics2.X, index=adata_omics2.obs_names)\n",
    "common_samples = df_omics1.index.intersection(df_omics2.index)\n",
    "adata_omics2 = adata_omics2[adata_omics2.obs.index.isin(common_samples)]\n",
    "adata_omics1 = adata_omics1[adata_omics1.obs.index.isin(common_samples)]"
   ]
  },
  {
   "cell_type": "code",
   "execution_count": null,
   "id": "5b5f4d8c-b3d3-440f-8a42-50cf7e1331ce",
   "metadata": {},
   "outputs": [],
   "source": [
    "from SpatialGlue.preprocess import construct_neighbor_graph\n",
    "data = construct_neighbor_graph(adata_omics1, adata_omics2, datatype=data_type)"
   ]
  },
  {
   "cell_type": "code",
   "execution_count": null,
   "id": "17e4d09e-baa2-4df8-a268-ecaf9e2778ef",
   "metadata": {},
   "outputs": [],
   "source": [
    "from SpatialGlue.SpatialGlue_pyG import Train_SpatialGlue"
   ]
  },
  {
   "cell_type": "code",
   "execution_count": null,
   "id": "eab7147b-a2c8-430c-b0d0-22fe99017bd8",
   "metadata": {},
   "outputs": [],
   "source": [
    "import torch\n",
    "\n",
    "device = torch.device(\"cuda\" if torch.cuda.is_available() else \"cpu\")\n",
    "print(f\"Using device: {device}\")"
   ]
  },
  {
   "cell_type": "code",
   "execution_count": null,
   "id": "cea6e69c-83c1-404e-838d-2d72f7d21589",
   "metadata": {},
   "outputs": [],
   "source": [
    "model = Train_SpatialGlue(data, datatype=data_type, device=device)"
   ]
  },
  {
   "cell_type": "code",
   "execution_count": null,
   "id": "06a64cf7-2505-403c-b074-80b82c517152",
   "metadata": {},
   "outputs": [],
   "source": [
    "# train model\n",
    "output = model.train()"
   ]
  },
  {
   "cell_type": "code",
   "execution_count": null,
   "id": "d502b4ef-4dd2-4e02-a4b9-88140e2960ad",
   "metadata": {},
   "outputs": [],
   "source": [
    "adata = adata_omics1.copy()\n",
    "adata.obsm['emb_latent_omics1'] = output['emb_latent_omics1']\n",
    "adata.obsm['emb_latent_omics2'] = output['emb_latent_omics2']\n",
    "adata.obsm['SpatialGlue'] = output['SpatialGlue']\n",
    "adata.obsm['alpha'] = output['alpha']\n",
    "adata.obsm['alpha_omics1'] = output['alpha_omics1']\n",
    "adata.obsm['alpha_omics2'] = output['alpha_omics2']"
   ]
  },
  {
   "cell_type": "code",
   "execution_count": null,
   "id": "5f79fdd6-1516-4a80-a6f4-f3f05a3448c5",
   "metadata": {},
   "outputs": [],
   "source": [
    "true_labels = np.array(metadata['label'])\n",
    "n_clusters = len(set(true_labels))\n",
    "n_clusters"
   ]
  },
  {
   "cell_type": "code",
   "execution_count": null,
   "id": "11971b5f-53f7-4d9e-bf38-fb47d4200d4d",
   "metadata": {},
   "outputs": [],
   "source": [
    "# we set 'mclust' as clustering tool by default. Users can also select 'leiden' and 'louvain'\n",
    "from SpatialGlue.utils import clustering\n",
    "tool = 'mclust' # mclust, leiden, and louvain\n",
    "clustering(adata, key='SpatialGlue', add_key='SpatialGlue', n_clusters=n_clusters, method=tool, use_pca=True, start=0.9, end=1.1, increment=0.02)"
   ]
  },
  {
   "cell_type": "code",
   "execution_count": null,
   "id": "730a0f30-1548-416f-bbbd-6d5dc064eb5e",
   "metadata": {},
   "outputs": [],
   "source": [
    "print(adjusted_rand_score(true_labels, adata.obs['SpatialGlue']))\n",
    "print(normalized_mutual_info_score(true_labels, adata.obs['SpatialGlue']))"
   ]
  },
  {
   "cell_type": "markdown",
   "id": "4a569b03-0fdb-4448-aed0-e08dc00f8d96",
   "metadata": {},
   "source": [
    "## GraphGBM"
   ]
  },
  {
   "cell_type": "code",
   "execution_count": null,
   "id": "b8dde93d-1f00-4283-b9a1-57eaa8514290",
   "metadata": {},
   "outputs": [],
   "source": [
    "from sklearn.decomposition import PCA\n",
    "# from GraphST.utils import refine_label\n",
    "from sklearn.preprocessing import StandardScaler\n",
    "# from GraphST.utils import mclust_R\n",
    "import numpy as np\n",
    "from numpy import dot, array\n",
    "from sklearn.cross_decomposition import CCA\n",
    "from sklearn.preprocessing import StandardScaler\n",
    "from sklearn.neighbors import kneighbors_graph\n",
    "from sklearn.mixture import BayesianGaussianMixture\n",
    "from mvlearn.datasets import load_UCImultifeature\n",
    "from mvlearn.embed import GCCA\n",
    "# gcca = GCCA(n_components = 20)\n",
    "# Xs_latents = gcca.fit_transform(Xs)\n",
    "\n",
    "from mvlearn.plotting import crossviews_plot\n",
    "from mvlearn.embed import DCCA\n",
    "from mvlearn.embed import MCCA\n",
    "from mvlearn.embed import KMCCA"
   ]
  },
  {
   "cell_type": "code",
   "execution_count": null,
   "id": "cf5b3644-1340-46b0-a5cc-f9f18a61a77e",
   "metadata": {},
   "outputs": [],
   "source": [
    "embedding = adata_omics1.obsm['feat']\n",
    "n_neighbors = 4\n",
    "connectivity = kneighbors_graph(adata_omics1.obsm['spatial'], n_neighbors=n_neighbors, include_self=False)\n",
    "# make connectivity symmetric\n",
    "connectivity = 0.5 * (connectivity + connectivity.T)\n",
    "embedding_RNA = connectivity.dot(embedding)\n",
    "adata_omics1.obsm['spatial_RNAfeat'] = embedding_RNA\n",
    "\n",
    "embedding = adata_omics2.obsm['feat']\n",
    "embedding_Pro = connectivity.dot(embedding)\n",
    "adata_omics1.obsm['spatial_Profeat'] = embedding_Pro\n",
    "\n",
    "# Standardize the data\n",
    "scaler_a = StandardScaler()\n",
    "scaler_b = StandardScaler()\n",
    "\n",
    "data_a_train = scaler_a.fit_transform(embedding_RNA)\n",
    "data_b_train = scaler_b.fit_transform(embedding_Pro)\n",
    "\n",
    "# Define and train the CCA model\n",
    "n_components = 5  # Number of canonical components\n",
    "cca = CCA(n_components=n_components)\n",
    "cca.fit(data_a_train, data_b_train)"
   ]
  },
  {
   "cell_type": "code",
   "execution_count": null,
   "id": "880f89b1-7893-49d0-bf1d-76e340656496",
   "metadata": {},
   "outputs": [],
   "source": [
    "### SOTA\n",
    "from sklearn.mixture import BayesianGaussianMixture\n",
    "from mvlearn.datasets import load_UCImultifeature\n",
    "from mvlearn.embed import GCCA\n",
    "\n",
    "from mvlearn.plotting import crossviews_plot\n",
    "from mvlearn.embed import DCCA\n",
    "from mvlearn.embed import MCCA\n",
    "from mvlearn.embed import KMCCA\n",
    "\n",
    "true_labels = np.array(metadata['label'])\n",
    "n_clusters = len(set(true_labels))\n",
    "\n",
    "Xs = [data_a_train-data_a_train.min(), data_b_train-data_b_train.min()] # multiview data\n",
    "mcca = KMCCA(n_components = 20, kernel = 'poly', regs = 1)\n",
    "mcca.fit(Xs)\n",
    "\n",
    "Xs_latents = mcca.transform(Xs)\n",
    "adata_omics1.obsm['emb_pca'] = np.concatenate((Xs_latents[0,:,:], Xs_latents[1,:,:]), axis=1)"
   ]
  },
  {
   "cell_type": "code",
   "execution_count": null,
   "id": "5e6cf4e6-07ea-459a-af7f-fcfa910e08ae",
   "metadata": {},
   "outputs": [],
   "source": [
    "# GraphBGM: use BayesianGaussianMixture\n",
    "gmm = BayesianGaussianMixture(n_components=n_clusters, covariance_type='full', random_state=0, init_params = 'random_from_data', n_init = 5, max_iter = 1000)\n",
    "\n",
    "# Step 4: Fit GMM\n",
    "gmm.fit(adata_omics1.obsm['emb_pca'])\n",
    "cluster_labels = gmm.predict(adata_omics1.obsm['emb_pca'])\n",
    "adata_omics1.obs['domain'] = cluster_labels  \n",
    "\n",
    "refine_cluster_labels = cKD_refine_label(np.array(adata_omics1.obsm['spatial']), cluster_labels, k = 45)\n",
    "\n",
    "# print('GBM - no post-preprocessing')\n",
    "# print(adjusted_rand_score(true_labels[true_labels>=0], cluster_labels[true_labels>=0]))\n",
    "# print(normalized_mutual_info_score(true_labels[true_labels>=0], cluster_labels[true_labels>=0]))\n",
    "# print(homogeneity_score(true_labels[true_labels>=0], cluster_labels[true_labels>=0]))\n",
    "# print(completeness_score(true_labels[true_labels>=0], cluster_labels[true_labels>=0]))\n",
    "print('GBM - with post-preprocessing')\n",
    "print(adjusted_rand_score(true_labels[true_labels>=0], refine_cluster_labels[true_labels>=0]))\n",
    "print(normalized_mutual_info_score(true_labels[true_labels>=0], refine_cluster_labels[true_labels>=0]))\n",
    "print(homogeneity_score(true_labels[true_labels>=0], refine_cluster_labels[true_labels>=0]))\n",
    "print(completeness_score(true_labels[true_labels>=0], refine_cluster_labels[true_labels>=0]))"
   ]
  },
  {
   "cell_type": "code",
   "execution_count": null,
   "id": "a666e008-9687-4558-afad-f4223e57c7a2",
   "metadata": {},
   "outputs": [],
   "source": [
    "print('SpatialGlue')\n",
    "print(adjusted_rand_score(true_labels[true_labels>=0], adata.obs['SpatialGlue'][true_labels>=0]))\n",
    "print(normalized_mutual_info_score(true_labels[true_labels>=0], adata.obs['SpatialGlue'][true_labels>=0]))\n",
    "print(homogeneity_score(true_labels[true_labels>=0], adata.obs['SpatialGlue'][true_labels>=0]))\n",
    "print(completeness_score(true_labels[true_labels>=0], adata.obs['SpatialGlue'][true_labels>=0]))"
   ]
  },
  {
   "cell_type": "code",
   "execution_count": null,
   "id": "a0c6244f-087e-459c-90b0-c1e5e8d4dd2d",
   "metadata": {},
   "outputs": [],
   "source": [
    "ari_bgm = adjusted_rand_score(true_labels[true_labels>=0], refine_cluster_labels[true_labels>=0])\n",
    "nmi_bgm = normalized_mutual_info_score(true_labels[true_labels>=0], refine_cluster_labels[true_labels>=0])\n",
    "hom_bgm = homogeneity_score(true_labels[true_labels>=0], refine_cluster_labels[true_labels>=0])\n",
    "com_bgm = completeness_score(true_labels[true_labels>=0], refine_cluster_labels[true_labels>=0])\n",
    "\n",
    "ari_sg = adjusted_rand_score(true_labels[true_labels>=0], adata.obs['SpatialGlue'][true_labels>=0])\n",
    "nmi_sg = normalized_mutual_info_score(true_labels[true_labels>=0], adata.obs['SpatialGlue'][true_labels>=0])\n",
    "hom_sg = homogeneity_score(true_labels[true_labels>=0], adata.obs['SpatialGlue'][true_labels>=0])\n",
    "com_sg = completeness_score(true_labels[true_labels>=0], adata.obs['SpatialGlue'][true_labels>=0])\n",
    "\n",
    "data = {\n",
    "    \"Method\": [\"GraphBGM\", \"SpatialGlue\"],\n",
    "    \"homogeneity\": [hom_bgm, hom_sg],\n",
    "    \"completeness\": [com_bgm, com_sg],\n",
    "    \"NMI\": [nmi_bgm, nmi_sg],\n",
    "    \"ARI\": [ari_bgm, ari_sg]\n",
    "}\n",
    "\n",
    "df = pd.DataFrame(data)\n",
    "\n",
    "# Lưu thành file CSV\n",
    "output_path = \"sim1992_metrics_results.csv\"\n",
    "df.to_csv(output_path, index=False)\n"
   ]
  },
  {
   "cell_type": "code",
   "execution_count": null,
   "id": "ef43ea7a-822a-4c0a-af2b-1d8e155b45ec",
   "metadata": {},
   "outputs": [],
   "source": [
    "import pandas as pd\n",
    "from sklearn.metrics import normalized_mutual_info_score, homogeneity_score, completeness_score, adjusted_rand_score\n",
    "\n",
    "# === Đường dẫn file ===\n",
    "input_csv = \"/Users/melancholy/Desktop/Graph BG-MM/CBMCs_nCells_5024_nGenes_1000__GraphBGUnimodal.csv\"\n",
    "output_csv = \"/Users/melancholy/Desktop/SpatialGlue/run_GraphBGM-multiModals/Simulated_data_csv/sim5024_1000_metrics_results.csv\"\n",
    "\n",
    "# === Đọc dữ liệu ===\n",
    "df = pd.read_csv(input_csv, header=None)\n",
    "\n",
    "# Lấy các nhãn từ cột\n",
    "label1 = df.iloc[:, 0]  # cột 1\n",
    "label2 = df.iloc[:, 1]  # cột 2\n",
    "label3 = df.iloc[:, 2]  # cột 3\n",
    "\n",
    "# === Hàm tính các chỉ số ===\n",
    "def compute_metrics(true_labels, pred_labels):\n",
    "    hom = homogeneity_score(true_labels, pred_labels)\n",
    "    com = completeness_score(true_labels, pred_labels)\n",
    "    nmi = normalized_mutual_info_score(true_labels, pred_labels)\n",
    "    ari = adjusted_rand_score(true_labels, pred_labels)\n",
    "    return hom, com, nmi, ari\n",
    "\n",
    "# === Tính toán ===\n",
    "metrics_rna = compute_metrics(label3, label1)       \n",
    "metrics_protein = compute_metrics(label3, label2)   \n",
    "\n",
    "# === Chuẩn bị dataframe kết quả ===\n",
    "results = pd.DataFrame([\n",
    "    [\"RNA\", *metrics_rna],\n",
    "    [\"protein\", *metrics_protein]\n",
    "], columns=[\"Method\", \"homogeneity\", \"completeness\", \"NMI\", \"ARI\"])\n",
    "\n",
    "# === Đọc file kết quả cũ và gộp ===\n",
    "df_out = pd.read_csv(output_csv)\n",
    "df_out = pd.concat([df_out, results], ignore_index=True)\n",
    "\n",
    "# === Ghi lại vào file CSV ===\n",
    "df_out.to_csv(output_csv, index=False)\n",
    "\n",
    "print(\"Đã gộp kết quả vào:\", output_csv)\n"
   ]
  }
 ],
 "metadata": {
  "kernelspec": {
   "display_name": "SpatialGlue",
   "language": "python",
   "name": "spatialglue"
  },
  "language_info": {
   "codemirror_mode": {
    "name": "ipython",
    "version": 3
   },
   "file_extension": ".py",
   "mimetype": "text/x-python",
   "name": "python",
   "nbconvert_exporter": "python",
   "pygments_lexer": "ipython3",
   "version": "3.8.18"
  }
 },
 "nbformat": 4,
 "nbformat_minor": 5
}
