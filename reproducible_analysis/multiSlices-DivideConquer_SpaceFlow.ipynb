{
 "cells": [
  {
   "cell_type": "code",
   "execution_count": 1,
   "id": "263e2a98-f87b-4d88-b6ff-0130649224c1",
   "metadata": {},
   "outputs": [],
   "source": [
    "import squidpy as sq\n",
    "import scanpy as sc\n",
    "\n",
    "from numpy.random import default_rng\n",
    "from anndata import AnnData\n",
    "import scipy\n",
    "from sklearn.metrics.cluster import adjusted_rand_score\n",
    "import numpy as np\n",
    "import pandas as pd\n",
    "import seaborn as sns\n",
    "import os\n",
    "from sklearn import metrics\n",
    "import multiprocessing as mp\n",
    "from sklearn.metrics.cluster import adjusted_rand_score, normalized_mutual_info_score, homogeneity_score, completeness_score\n",
    "import pickle\n",
    "from sklearn.neighbors import kneighbors_graph\n",
    "from sklearn.mixture import GaussianMixture\n",
    "from sklearn.mixture import BayesianGaussianMixture"
   ]
  },
  {
   "cell_type": "code",
   "execution_count": 2,
   "id": "9a42d50a-b9aa-45a2-b1bf-f2bbbd285173",
   "metadata": {},
   "outputs": [],
   "source": [
    "from numpy import genfromtxt\n",
    "import time"
   ]
  },
  {
   "cell_type": "code",
   "execution_count": 3,
   "id": "764105bd-b154-4843-a701-f12f31af04ab",
   "metadata": {},
   "outputs": [
    {
     "name": "stderr",
     "output_type": "stream",
     "text": [
      "/home/vanhoan310/miniconda3/envs/spaceflow/lib/python3.7/site-packages/tqdm/auto.py:21: TqdmWarning: IProgress not found. Please update jupyter and ipywidgets. See https://ipywidgets.readthedocs.io/en/stable/user_install.html\n",
      "  from .autonotebook import tqdm as notebook_tqdm\n",
      "/home/vanhoan310/miniconda3/envs/spaceflow/lib/python3.7/site-packages/torch_geometric/typing.py:31: UserWarning: An issue occurred while importing 'torch-scatter'. Disabling its usage. Stacktrace: /data/hoan/mybin/miniconda3/envs/spaceflow/lib/python3.7/site-packages/torch_scatter/_version_cpu.so: undefined symbol: _ZN5torch3jit17parseSchemaOrNameERKSs\n",
      "  warnings.warn(f\"An issue occurred while importing 'torch-scatter'. \"\n",
      "/home/vanhoan310/miniconda3/envs/spaceflow/lib/python3.7/site-packages/torch_geometric/typing.py:42: UserWarning: An issue occurred while importing 'torch-sparse'. Disabling its usage. Stacktrace: /data/hoan/mybin/miniconda3/envs/spaceflow/lib/python3.7/site-packages/torch_sparse/_version_cpu.so: undefined symbol: _ZN5torch3jit17parseSchemaOrNameERKSs\n",
      "  warnings.warn(f\"An issue occurred while importing 'torch-sparse'. \"\n"
     ]
    }
   ],
   "source": [
    "from SpaceFlow import SpaceFlow"
   ]
  },
  {
   "cell_type": "code",
   "execution_count": 4,
   "id": "4549612b-ac02-492e-849c-344c47989ac7",
   "metadata": {},
   "outputs": [],
   "source": [
    "# adata = sq.datasets.seqfish()\n",
    "# sc.pp.filter_genes(adata, min_cells=3)\n",
    "# sf = SpaceFlow.SpaceFlow(adata=adata)\n",
    "# sf.preprocessing_data(n_top_genes=3000)\n",
    "# sf.train(spatial_regularization_strength=0.1, z_dim=50, lr=1e-3, epochs=30, max_patience=50, min_stop=100, random_seed=42, gpu=0, regularization_acceleration=True, edge_subset_sz=1000000)\n",
    "# sf.segmentation(domain_label_save_filepath=\"output/domains.tsv\", n_neighbors=50, resolution=1.0)"
   ]
  },
  {
   "cell_type": "markdown",
   "id": "45158383-d8c7-48ba-9603-052288a8f763",
   "metadata": {
    "jp-MarkdownHeadingCollapsed": true,
    "tags": []
   },
   "source": [
    "## MsMERFISH"
   ]
  },
  {
   "cell_type": "code",
   "execution_count": 18,
   "id": "9d685330-a96c-429d-997d-e88aa3e1f611",
   "metadata": {},
   "outputs": [],
   "source": [
    "data_dir = '/data/hoan/spatial_transcriptomics/data/SDMBench/Data/378k/BrainAgingSpatialAtlas_MERFISH.h5ad'\n",
    "adata_big=sc.read_h5ad(data_dir)\n",
    "donor_id = np.unique(adata_big.obs['donor_id'])"
   ]
  },
  {
   "cell_type": "code",
   "execution_count": 121,
   "id": "bb2a31bb-a71c-4307-ae61-cd8898417030",
   "metadata": {},
   "outputs": [
    {
     "name": "stdout",
     "output_type": "stream",
     "text": [
      "0 MsBrainAgingSpatialDonor_1\n",
      "Epoch 2/2, Loss: 1.8738986253738403\n",
      "Training complete!\n",
      "Embedding is saved at output/MsBrainAgingSpatialDonor_1Slice0SpaceFlowembedding.tsv\n"
     ]
    },
    {
     "name": "stderr",
     "output_type": "stream",
     "text": [
      "/home/vanhoan310/miniconda3/envs/spaceflow/lib/python3.7/site-packages/ipykernel_launcher.py:27: FutureWarning: X.dtype being converted to np.float32 from float64. In the next version of anndata (0.9) conversion will not be automatic. Pass dtype explicitly to avoid this warning. Pass `AnnData(X, dtype=X.dtype, ...)` to get the future behavour.\n"
     ]
    },
    {
     "name": "stdout",
     "output_type": "stream",
     "text": [
      "1 MsBrainAgingSpatialDonor_1\n",
      "1 MsBrainAgingSpatialDonor_10\n",
      "Epoch 2/2, Loss: 4.892630577087402\n",
      "Training complete!\n",
      "Embedding is saved at output/MsBrainAgingSpatialDonor_10Slice1SpaceFlowembedding.tsv\n"
     ]
    },
    {
     "name": "stderr",
     "output_type": "stream",
     "text": [
      "/home/vanhoan310/miniconda3/envs/spaceflow/lib/python3.7/site-packages/ipykernel_launcher.py:27: FutureWarning: X.dtype being converted to np.float32 from float64. In the next version of anndata (0.9) conversion will not be automatic. Pass dtype explicitly to avoid this warning. Pass `AnnData(X, dtype=X.dtype, ...)` to get the future behavour.\n"
     ]
    },
    {
     "name": "stdout",
     "output_type": "stream",
     "text": [
      "2 MsBrainAgingSpatialDonor_1\n",
      "2 MsBrainAgingSpatialDonor_10\n",
      "Epoch 2/2, Loss: 2.943315029144287\n",
      "Training complete!\n",
      "Embedding is saved at output/MsBrainAgingSpatialDonor_10Slice2SpaceFlowembedding.tsv\n"
     ]
    },
    {
     "name": "stderr",
     "output_type": "stream",
     "text": [
      "/home/vanhoan310/miniconda3/envs/spaceflow/lib/python3.7/site-packages/ipykernel_launcher.py:27: FutureWarning: X.dtype being converted to np.float32 from float64. In the next version of anndata (0.9) conversion will not be automatic. Pass dtype explicitly to avoid this warning. Pass `AnnData(X, dtype=X.dtype, ...)` to get the future behavour.\n"
     ]
    }
   ],
   "source": [
    "sf_embedding_all = np.array([], dtype=np.int64).reshape(0,50)\n",
    "batch_labels = []\n",
    "batch_index = 0\n",
    "sf_meta = []\n",
    "for sliceID in ['0', '1', '2']:\n",
    "    for donorID in donor_id:\n",
    "# sliceID = '1'; donorID = donor_id[2]; #1, 2\n",
    "# for sliceID in ['0', '1', '2']:\n",
    "        print(sliceID, donorID)\n",
    "        adata = adata_big[adata_big.obs['slice']==sliceID]#[:5000]\n",
    "        adata = adata[adata.obs['donor_id']==donorID]\n",
    "        adata.obsm['spatial'] = adata.obsm['spatial_coords']\n",
    "        true_labels = pd.factorize(adata.obs['tissue'])[0]\n",
    "        if adata.shape[0] > 10:\n",
    "            time_st = time.time()\n",
    "            data_name = donorID + 'Slice' + sliceID\n",
    "            adataNew = AnnData(1.0 + adata.obsm['X_pca'] - adata.obsm['X_pca'].min())\n",
    "            adataNew.obsm['spatial'] = adata.obsm['spatial']\n",
    "            sf = SpaceFlow.SpaceFlow(adata=adataNew)\n",
    "            sf.preprocessing_data(n_top_genes=40)\n",
    "            embed_filepath = 'output/'+data_name+'SpaceFlowembedding.tsv'\n",
    "            domain_label = 'output/'+data_name+'SpaceFlowdomains.tsv'\n",
    "            sf.train(embedding_save_filepath=embed_filepath, spatial_regularization_strength=0.1, z_dim=50, lr=1e-3, epochs=2, max_patience=50, min_stop=100, random_seed=42, gpu=0, regularization_acceleration=True, edge_subset_sz=1000000)\n",
    "            \n",
    "            # sf.segmentation(domain_label_save_filepath=domain_label, n_neighbors=50, resolution=1.0)\n",
    "            sf_embedding = genfromtxt(embed_filepath, delimiter='\\t')\n",
    "            embedding_adata = AnnData(sf_embedding)\n",
    "            sc.pp.neighbors(embedding_adata, n_neighbors=50, use_rep='X')\n",
    "            sc.tl.leiden(embedding_adata, resolution=1.0)\n",
    "            domains = embedding_adata.obs[\"leiden\"].cat.codes\n",
    "            time_ed = time.time()\n",
    "            time_spaceflow = time_ed-time_st\n",
    "\n",
    "            # cluster_label = pd.read_csv(domain_label, header = None)\n",
    "            # cluster_SpaceFlow = cluster_label.values.flatten()\n",
    "            cluster_SpaceFlow = np.array(domains)\n",
    "            df_out = pd.DataFrame()\n",
    "            df_out['SpaceFLow'] = np.array(cluster_SpaceFlow[true_labels>=0]).astype(int)\n",
    "            df_out['ground_truth'] = np.array(true_labels[true_labels>=0]).astype(int)\n",
    "            out_data = '/data/hoan/spatial_transcriptomics/GraphST/output/'+data_name+'SpaceFlow.csv'\n",
    "            df_out.to_csv(out_data, index=False)\n",
    "            time_st = time.time()\n",
    "            sf_embedding = genfromtxt(embed_filepath, delimiter='\\t')\n",
    "            sf_embedding_all = np.vstack([sf_embedding_all, sf_embedding])\n",
    "            batch_labels += [batch_index]*len(cluster_SpaceFlow)\n",
    "            batch_index += 1\n",
    "            time_ed = time.time()\n",
    "            time_combine_preprocess = time_ed-time_st\n",
    "            sf_info = [data_name, len(cluster_SpaceFlow), normalized_mutual_info_score(true_labels, cluster_SpaceFlow), time_spaceflow, time_combine_preprocess]\n",
    "            sf_meta.append(sf_info)\n",
    "            break;"
   ]
  },
  {
   "cell_type": "code",
   "execution_count": 123,
   "id": "78083f12-ead9-4b25-adc9-667daa84034d",
   "metadata": {},
   "outputs": [],
   "source": [
    "sf_meta_df = pd.DataFrame(sf_meta, columns = ['metaSlice', 'n', 'NMI', 'SpaceFlowRuntime', 'Hamony_prepro_runtime'])\n",
    "sf_meta_df.to_csv('sf_meta_df_runtime_round1.csv')"
   ]
  },
  {
   "cell_type": "code",
   "execution_count": 124,
   "id": "31a80028-e35b-4286-a3fb-104196015b6a",
   "metadata": {},
   "outputs": [
    {
     "data": {
      "text/html": [
       "<div>\n",
       "<style scoped>\n",
       "    .dataframe tbody tr th:only-of-type {\n",
       "        vertical-align: middle;\n",
       "    }\n",
       "\n",
       "    .dataframe tbody tr th {\n",
       "        vertical-align: top;\n",
       "    }\n",
       "\n",
       "    .dataframe thead th {\n",
       "        text-align: right;\n",
       "    }\n",
       "</style>\n",
       "<table border=\"1\" class=\"dataframe\">\n",
       "  <thead>\n",
       "    <tr style=\"text-align: right;\">\n",
       "      <th></th>\n",
       "      <th>metaSlice</th>\n",
       "      <th>n</th>\n",
       "      <th>NMI</th>\n",
       "      <th>SpaceFlowRuntime</th>\n",
       "      <th>Hamony_prepro_runtime</th>\n",
       "    </tr>\n",
       "  </thead>\n",
       "  <tbody>\n",
       "    <tr>\n",
       "      <th>0</th>\n",
       "      <td>MsBrainAgingSpatialDonor_1Slice0</td>\n",
       "      <td>21002</td>\n",
       "      <td>0.168404</td>\n",
       "      <td>47.137085</td>\n",
       "      <td>1.041497</td>\n",
       "    </tr>\n",
       "    <tr>\n",
       "      <th>1</th>\n",
       "      <td>MsBrainAgingSpatialDonor_10Slice1</td>\n",
       "      <td>9617</td>\n",
       "      <td>0.264481</td>\n",
       "      <td>14.025429</td>\n",
       "      <td>0.420151</td>\n",
       "    </tr>\n",
       "    <tr>\n",
       "      <th>2</th>\n",
       "      <td>MsBrainAgingSpatialDonor_10Slice2</td>\n",
       "      <td>8823</td>\n",
       "      <td>0.257776</td>\n",
       "      <td>16.631531</td>\n",
       "      <td>0.372299</td>\n",
       "    </tr>\n",
       "  </tbody>\n",
       "</table>\n",
       "</div>"
      ],
      "text/plain": [
       "                           metaSlice      n       NMI  SpaceFlowRuntime  \\\n",
       "0   MsBrainAgingSpatialDonor_1Slice0  21002  0.168404         47.137085   \n",
       "1  MsBrainAgingSpatialDonor_10Slice1   9617  0.264481         14.025429   \n",
       "2  MsBrainAgingSpatialDonor_10Slice2   8823  0.257776         16.631531   \n",
       "\n",
       "   Hamony_prepro_runtime  \n",
       "0               1.041497  \n",
       "1               0.420151  \n",
       "2               0.372299  "
      ]
     },
     "execution_count": 124,
     "metadata": {},
     "output_type": "execute_result"
    }
   ],
   "source": [
    "sf_meta_df"
   ]
  },
  {
   "cell_type": "code",
   "execution_count": 111,
   "id": "f5f6ea72-3660-41b2-9aee-60670200eb36",
   "metadata": {},
   "outputs": [
    {
     "name": "stderr",
     "output_type": "stream",
     "text": [
      "/home/vanhoan310/miniconda3/envs/spaceflow/lib/python3.7/site-packages/ipykernel_launcher.py:3: FutureWarning: X.dtype being converted to np.float32 from float64. In the next version of anndata (0.9) conversion will not be automatic. Pass dtype explicitly to avoid this warning. Pass `AnnData(X, dtype=X.dtype, ...)` to get the future behavour.\n",
      "  This is separate from the ipykernel package so we can avoid doing imports until\n",
      "2025-02-09 15:33:21,332 - harmonypy - INFO - Computing initial centroids with sklearn.KMeans...\n",
      "2025-02-09 15:34:05,193 - harmonypy - INFO - sklearn.KMeans initialization complete.\n",
      "2025-02-09 15:34:09,880 - harmonypy - INFO - Iteration 1 of 10\n",
      "2025-02-09 15:36:05,014 - harmonypy - INFO - Iteration 2 of 10\n",
      "2025-02-09 15:39:47,923 - harmonypy - INFO - Iteration 3 of 10\n",
      "2025-02-09 15:42:06,164 - harmonypy - INFO - Iteration 4 of 10\n",
      "2025-02-09 15:43:59,291 - harmonypy - INFO - Iteration 5 of 10\n",
      "2025-02-09 15:45:52,706 - harmonypy - INFO - Iteration 6 of 10\n",
      "2025-02-09 15:47:45,530 - harmonypy - INFO - Converged after 6 iterations\n"
     ]
    }
   ],
   "source": [
    "import scanpy.external as sce\n",
    "time_st = time.time()\n",
    "adata_combine = sc.AnnData(sf_embedding_all)\n",
    "adata_combine.obsm['X_pca'] = sf_embedding_all\n",
    "adata_combine.obs[\"batch\"] = np.array(batch_labels)\n",
    "adata_combine.obs[\"batch\"] = adata_combine.obs[\"batch\"].astype(\"category\")\n",
    "# sc.pp.combat(adata_combine, key=\"batch\", inplace=True)\n",
    "# sce.pp.scanorama_integrate(adata, key=\"batch\")\n",
    "# sc.pp.pca(adata_combine, n_comps=30)\n",
    "sce.pp.harmony_integrate(adata_combine, key=\"batch\")\n",
    "time_ed = time.time()\n",
    "time_harmony = time_ed-time_st"
   ]
  },
  {
   "cell_type": "code",
   "execution_count": 112,
   "id": "6916089c-77df-49af-a44b-39f5f49cea64",
   "metadata": {},
   "outputs": [],
   "source": [
    "time_st = time.time()\n",
    "sc.pp.neighbors(adata_combine,use_rep='X_pca_harmony')\n",
    "sc.tl.leiden(adata_combine,resolution=0.5)\n",
    "time_ed = time.time()\n",
    "time_leiden = time_ed-time_st"
   ]
  },
  {
   "cell_type": "code",
   "execution_count": 116,
   "id": "f6077e21-3255-439d-93b9-5796673996a7",
   "metadata": {},
   "outputs": [],
   "source": [
    "sf_meta_df['Harmony_combine_Time'] = time_harmony\n",
    "sf_meta_df['time_leiden'] =time_leiden\n",
    "sf_meta_df.to_csv('sf_meta_df_runtime.csv')"
   ]
  },
  {
   "cell_type": "markdown",
   "id": "eb55d9cc-8407-4115-b072-783101b2fe51",
   "metadata": {
    "jp-MarkdownHeadingCollapsed": true,
    "tags": []
   },
   "source": [
    "# Small MERFISH"
   ]
  },
  {
   "cell_type": "code",
   "execution_count": 4,
   "id": "c65eac52-0b22-4f14-a651-c436caad0542",
   "metadata": {},
   "outputs": [],
   "source": [
    "# data_dir = '/data/hoan/spatial_transcriptomics/data/SDMBench/Data/378k/BrainAgingSpatialAtlas_MERFISH.h5ad'\n",
    "# adata_big=sc.read_h5ad(data_dir)\n",
    "# donor_id = np.unique(adata_big.obs['donor_id'])"
   ]
  },
  {
   "cell_type": "code",
   "execution_count": 5,
   "id": "29cc0011-71ee-4346-8c17-cc8c77d4beef",
   "metadata": {},
   "outputs": [],
   "source": [
    "import glob\n",
    "data_dir_full = []\n",
    "for data_dir in glob.glob(\"/data/hoan/spatial_transcriptomics/data/SDMBench/Data/MERFISH/*.h5ad\", recursive=True):\n",
    "    # print(data_dir)\n",
    "    data_dir_full.append(data_dir)\n",
    "# data_dir_full = data_dir_full[-4:]"
   ]
  },
  {
   "cell_type": "code",
   "execution_count": 27,
   "id": "0ba945af-37b8-4629-9cf2-e55dcfbb6214",
   "metadata": {},
   "outputs": [
    {
     "name": "stdout",
     "output_type": "stream",
     "text": [
      "WARNING: adata.X seems to be already log-transformed.\n"
     ]
    },
    {
     "name": "stderr",
     "output_type": "stream",
     "text": [
      "/home/vanhoan310/miniconda3/envs/spaceflow/lib/python3.7/site-packages/scanpy/preprocessing/_highly_variable_genes.py:64: UserWarning: `flavor='seurat_v3'` expects raw count data, but non-integers were found.\n",
      "  UserWarning,\n"
     ]
    },
    {
     "name": "stdout",
     "output_type": "stream",
     "text": [
      "Epoch 2/300, Loss: 3.014679431915283\n",
      "Epoch 12/300, Loss: 1.627250075340271\n",
      "Epoch 22/300, Loss: 1.4462496042251587\n",
      "Epoch 32/300, Loss: 1.3566622734069824\n",
      "Epoch 42/300, Loss: 1.290056586265564\n",
      "Epoch 52/300, Loss: 1.2278144359588623\n",
      "Epoch 62/300, Loss: 1.1679853200912476\n",
      "Epoch 72/300, Loss: 1.1063367128372192\n",
      "Epoch 82/300, Loss: 1.0538140535354614\n",
      "Epoch 92/300, Loss: 0.9905679821968079\n",
      "Epoch 102/300, Loss: 0.9558861255645752\n",
      "Epoch 112/300, Loss: 0.8885167837142944\n",
      "Epoch 122/300, Loss: 0.849240243434906\n",
      "Epoch 132/300, Loss: 0.8113704919815063\n",
      "Epoch 142/300, Loss: 0.7240058183670044\n",
      "Epoch 152/300, Loss: 0.7023977637290955\n",
      "Epoch 162/300, Loss: 0.6468055844306946\n",
      "Epoch 172/300, Loss: 0.5882895588874817\n",
      "Epoch 182/300, Loss: 0.5435284376144409\n",
      "Epoch 192/300, Loss: 0.5278501510620117\n",
      "Epoch 202/300, Loss: 0.514238715171814\n",
      "Epoch 212/300, Loss: 0.4841987192630768\n",
      "Epoch 222/300, Loss: 0.43486547470092773\n",
      "Epoch 232/300, Loss: 0.42349690198898315\n",
      "Epoch 242/300, Loss: 0.4104222357273102\n",
      "Epoch 252/300, Loss: 0.374585896730423\n",
      "Epoch 262/300, Loss: 0.3472185730934143\n",
      "Epoch 272/300, Loss: 0.34166112542152405\n",
      "Epoch 282/300, Loss: 0.32345348596572876\n",
      "Epoch 292/300, Loss: 0.33043172955513\n",
      "Training complete!\n",
      "Embedding is saved at output/MERFISHMERFISH_0.04SpaceFlowembedding.tsv\n",
      "WARNING: adata.X seems to be already log-transformed.\n"
     ]
    },
    {
     "name": "stderr",
     "output_type": "stream",
     "text": [
      "/home/vanhoan310/miniconda3/envs/spaceflow/lib/python3.7/site-packages/scanpy/preprocessing/_highly_variable_genes.py:64: UserWarning: `flavor='seurat_v3'` expects raw count data, but non-integers were found.\n",
      "  UserWarning,\n"
     ]
    },
    {
     "name": "stdout",
     "output_type": "stream",
     "text": [
      "Epoch 2/300, Loss: 2.462718963623047\n",
      "Epoch 12/300, Loss: 1.6010754108428955\n",
      "Epoch 22/300, Loss: 1.4592583179473877\n",
      "Epoch 32/300, Loss: 1.3873071670532227\n",
      "Epoch 42/300, Loss: 1.3325777053833008\n",
      "Epoch 52/300, Loss: 1.2597651481628418\n",
      "Epoch 62/300, Loss: 1.1943200826644897\n",
      "Epoch 72/300, Loss: 1.123783826828003\n",
      "Epoch 82/300, Loss: 1.0655163526535034\n",
      "Epoch 92/300, Loss: 0.9882709980010986\n",
      "Epoch 102/300, Loss: 0.9499662518501282\n",
      "Epoch 112/300, Loss: 0.8969447612762451\n",
      "Epoch 122/300, Loss: 0.8437889814376831\n",
      "Epoch 132/300, Loss: 0.7921134233474731\n",
      "Epoch 142/300, Loss: 0.7482636570930481\n",
      "Epoch 152/300, Loss: 0.6999286413192749\n",
      "Epoch 162/300, Loss: 0.6419752240180969\n",
      "Epoch 172/300, Loss: 0.6081466674804688\n",
      "Epoch 182/300, Loss: 0.5803207159042358\n",
      "Epoch 192/300, Loss: 0.5243596434593201\n",
      "Epoch 202/300, Loss: 0.5146520137786865\n",
      "Epoch 212/300, Loss: 0.4696471691131592\n",
      "Epoch 222/300, Loss: 0.43562400341033936\n",
      "Epoch 232/300, Loss: 0.43749672174453735\n",
      "Epoch 242/300, Loss: 0.37804239988327026\n",
      "Epoch 252/300, Loss: 0.3662828207015991\n",
      "Epoch 262/300, Loss: 0.33063778281211853\n",
      "Epoch 272/300, Loss: 0.3389018774032593\n",
      "Epoch 282/300, Loss: 0.29815933108329773\n",
      "Epoch 292/300, Loss: 0.3020850419998169\n",
      "Training complete!\n",
      "Embedding is saved at output/MERFISHMERFISH_0.09SpaceFlowembedding.tsv\n",
      "WARNING: adata.X seems to be already log-transformed.\n"
     ]
    },
    {
     "name": "stderr",
     "output_type": "stream",
     "text": [
      "/home/vanhoan310/miniconda3/envs/spaceflow/lib/python3.7/site-packages/scanpy/preprocessing/_highly_variable_genes.py:64: UserWarning: `flavor='seurat_v3'` expects raw count data, but non-integers were found.\n",
      "  UserWarning,\n"
     ]
    },
    {
     "name": "stdout",
     "output_type": "stream",
     "text": [
      "Epoch 2/300, Loss: 2.6842925548553467\n",
      "Epoch 12/300, Loss: 1.6088272333145142\n",
      "Epoch 22/300, Loss: 1.447527289390564\n",
      "Epoch 32/300, Loss: 1.345799207687378\n",
      "Epoch 42/300, Loss: 1.2836519479751587\n",
      "Epoch 52/300, Loss: 1.2209776639938354\n",
      "Epoch 62/300, Loss: 1.1573399305343628\n",
      "Epoch 72/300, Loss: 1.096838116645813\n",
      "Epoch 82/300, Loss: 1.0332142114639282\n",
      "Epoch 92/300, Loss: 0.974266767501831\n",
      "Epoch 102/300, Loss: 0.931865930557251\n",
      "Epoch 112/300, Loss: 0.863125205039978\n",
      "Epoch 122/300, Loss: 0.8068112730979919\n",
      "Epoch 132/300, Loss: 0.7512430548667908\n",
      "Epoch 142/300, Loss: 0.6971694231033325\n",
      "Epoch 152/300, Loss: 0.6239796876907349\n",
      "Epoch 162/300, Loss: 0.5911360383033752\n",
      "Epoch 172/300, Loss: 0.5475049018859863\n",
      "Epoch 182/300, Loss: 0.5194346308708191\n",
      "Epoch 192/300, Loss: 0.46391725540161133\n",
      "Epoch 202/300, Loss: 0.408311665058136\n",
      "Epoch 212/300, Loss: 0.38679590821266174\n",
      "Epoch 222/300, Loss: 0.35682088136672974\n",
      "Epoch 232/300, Loss: 0.3489559590816498\n",
      "Epoch 242/300, Loss: 0.3209990859031677\n",
      "Epoch 252/300, Loss: 0.28166449069976807\n",
      "Epoch 262/300, Loss: 0.27144256234169006\n",
      "Epoch 272/300, Loss: 0.26963868737220764\n",
      "Epoch 282/300, Loss: 0.25133001804351807\n",
      "Epoch 292/300, Loss: 0.2491055727005005\n",
      "Training complete!\n",
      "Embedding is saved at output/MERFISHMERFISH_0.14SpaceFlowembedding.tsv\n",
      "WARNING: adata.X seems to be already log-transformed.\n"
     ]
    },
    {
     "name": "stderr",
     "output_type": "stream",
     "text": [
      "/home/vanhoan310/miniconda3/envs/spaceflow/lib/python3.7/site-packages/scanpy/preprocessing/_highly_variable_genes.py:64: UserWarning: `flavor='seurat_v3'` expects raw count data, but non-integers were found.\n",
      "  UserWarning,\n"
     ]
    },
    {
     "name": "stdout",
     "output_type": "stream",
     "text": [
      "Epoch 2/300, Loss: 2.3171207904815674\n",
      "Epoch 12/300, Loss: 1.6099742650985718\n",
      "Epoch 22/300, Loss: 1.4566670656204224\n",
      "Epoch 32/300, Loss: 1.3760632276535034\n",
      "Epoch 42/300, Loss: 1.3321751356124878\n",
      "Epoch 52/300, Loss: 1.2737704515457153\n",
      "Epoch 62/300, Loss: 1.2091922760009766\n",
      "Epoch 72/300, Loss: 1.150964379310608\n",
      "Epoch 82/300, Loss: 1.0932539701461792\n",
      "Epoch 92/300, Loss: 1.034947156906128\n",
      "Epoch 102/300, Loss: 0.9509592056274414\n",
      "Epoch 112/300, Loss: 0.8865514397621155\n",
      "Epoch 122/300, Loss: 0.8284448981285095\n",
      "Epoch 132/300, Loss: 0.7662526369094849\n",
      "Epoch 142/300, Loss: 0.7130587100982666\n",
      "Epoch 152/300, Loss: 0.6773752570152283\n",
      "Epoch 162/300, Loss: 0.6127500534057617\n",
      "Epoch 172/300, Loss: 0.5671331882476807\n",
      "Epoch 182/300, Loss: 0.5381788015365601\n",
      "Epoch 192/300, Loss: 0.5186752080917358\n",
      "Epoch 202/300, Loss: 0.4928723871707916\n",
      "Epoch 212/300, Loss: 0.4584631621837616\n",
      "Epoch 222/300, Loss: 0.42092469334602356\n",
      "Epoch 232/300, Loss: 0.4223036766052246\n",
      "Epoch 242/300, Loss: 0.3840133249759674\n",
      "Epoch 252/300, Loss: 0.39460813999176025\n",
      "Epoch 262/300, Loss: 0.3625733554363251\n",
      "Epoch 272/300, Loss: 0.3583613634109497\n",
      "Epoch 282/300, Loss: 0.3408552408218384\n",
      "Epoch 292/300, Loss: 0.34421026706695557\n",
      "Training complete!\n",
      "Embedding is saved at output/MERFISHMERFISH_0.19SpaceFlowembedding.tsv\n",
      "WARNING: adata.X seems to be already log-transformed.\n"
     ]
    },
    {
     "name": "stderr",
     "output_type": "stream",
     "text": [
      "/home/vanhoan310/miniconda3/envs/spaceflow/lib/python3.7/site-packages/scanpy/preprocessing/_highly_variable_genes.py:64: UserWarning: `flavor='seurat_v3'` expects raw count data, but non-integers were found.\n",
      "  UserWarning,\n"
     ]
    },
    {
     "name": "stdout",
     "output_type": "stream",
     "text": [
      "Epoch 2/300, Loss: 2.633160352706909\n",
      "Epoch 12/300, Loss: 1.5779093503952026\n",
      "Epoch 22/300, Loss: 1.429612159729004\n",
      "Epoch 32/300, Loss: 1.3644073009490967\n",
      "Epoch 42/300, Loss: 1.3060466051101685\n",
      "Epoch 52/300, Loss: 1.236332654953003\n",
      "Epoch 62/300, Loss: 1.175241470336914\n",
      "Epoch 72/300, Loss: 1.1133692264556885\n",
      "Epoch 82/300, Loss: 1.0353931188583374\n",
      "Epoch 92/300, Loss: 0.9569563865661621\n",
      "Epoch 102/300, Loss: 0.9092714190483093\n",
      "Epoch 112/300, Loss: 0.8352928161621094\n",
      "Epoch 122/300, Loss: 0.7739911675453186\n",
      "Epoch 132/300, Loss: 0.6943329572677612\n",
      "Epoch 142/300, Loss: 0.642557680606842\n",
      "Epoch 152/300, Loss: 0.6370167136192322\n",
      "Epoch 162/300, Loss: 0.5712909698486328\n",
      "Epoch 172/300, Loss: 0.5096271634101868\n",
      "Epoch 182/300, Loss: 0.47604379057884216\n",
      "Epoch 192/300, Loss: 0.46454480290412903\n",
      "Epoch 202/300, Loss: 0.40800604224205017\n",
      "Epoch 212/300, Loss: 0.3978159725666046\n",
      "Epoch 222/300, Loss: 0.3980894684791565\n",
      "Epoch 232/300, Loss: 0.3602585196495056\n",
      "Epoch 242/300, Loss: 0.33001941442489624\n",
      "Epoch 252/300, Loss: 0.3560467064380646\n",
      "Epoch 262/300, Loss: 0.3437926471233368\n",
      "Epoch 272/300, Loss: 0.31307750940322876\n",
      "Epoch 282/300, Loss: 0.2908022999763489\n",
      "Epoch 292/300, Loss: 0.291163831949234\n",
      "Training complete!\n",
      "Embedding is saved at output/MERFISHMERFISH_0.24SpaceFlowembedding.tsv\n"
     ]
    }
   ],
   "source": [
    "sf_embedding_all = np.array([], dtype=np.int64).reshape(0,50)\n",
    "batch_labels = []\n",
    "batch_index = 0\n",
    "sf_meta = []\n",
    "adata_list = []\n",
    "# data_dir_full = data_dir_full[1:3]\n",
    "combined_labels = []\n",
    "for data_dir in data_dir_full:\n",
    "    data_name = data_dir.split('/')[-2]+data_dir.split('/')[-1][:-5]\n",
    "    # file_pickle = '/data/hoan/spatial_transcriptomics/GraphBGM/Data/Pickle/'+data_name+'.pickle'\n",
    "    # if os.path.exists(file_pickle):\n",
    "    # for data_dir in data_dir_full:\n",
    "    adata = sc.read_h5ad(data_dir)\n",
    "    sc.pp.highly_variable_genes(adata, flavor=\"seurat_v3\", n_top_genes=3000)\n",
    "    # sc.pp.highly_variable_genes(adata,  n_top_genes=3000)\n",
    "    sc.pp.normalize_total(adata, target_sum=1e4)\n",
    "    sc.pp.log1p(adata)\n",
    "    sc.pp.scale(adata, zero_center=False, max_value=10)\n",
    "    # Reload the file\n",
    "    # adata = pickle.load(open(file_pickle, \"rb\"))\n",
    "    true_labels = pd.factorize(adata.obs['Region'])[0]\n",
    "    combined_labels += list(true_labels)\n",
    "    if adata.shape[0] > 10:\n",
    "        time_st = time.time()\n",
    "        # data_name = donorID + 'Slice' + sliceID\n",
    "        # adataNew = AnnData(1.0 + adata.obsm['X_pca'] - adata.obsm['X_pca'].min())\n",
    "        # adataNew.obsm['spatial'] = adata.obsm['spatial']\n",
    "        #sf = SpaceFlow.SpaceFlow(adata=adataNew)\n",
    "        sf = SpaceFlow.SpaceFlow(adata=adata)\n",
    "        # sf.preprocessing_data(n_top_genes=40) # For big MERFISH dataset\n",
    "        sf.preprocessing_data(n_top_genes=3000) \n",
    "        embed_filepath = 'output/'+data_name+'SpaceFlowembedding.tsv'\n",
    "        domain_label = 'output/'+data_name+'SpaceFlowdomains.tsv'\n",
    "        sf.train(embedding_save_filepath=embed_filepath, spatial_regularization_strength=0.1, z_dim=50, lr=1e-3, epochs=300, max_patience=50, min_stop=100, random_seed=42, gpu=0, regularization_acceleration=True, edge_subset_sz=1000000)\n",
    "\n",
    "        # sf.segmentation(domain_label_save_filepath=domain_label, n_neighbors=50, resolution=1.0)\n",
    "        # sf_embedding = genfromtxt(embed_filepath, delimiter='\\t')\n",
    "        # embedding_adata = AnnData(sf_embedding)\n",
    "#         sc.pp.neighbors(embedding_adata, n_neighbors=50, use_rep='X')\n",
    "#         sc.tl.leiden(embedding_adata, resolution=1.0)\n",
    "#         domains = embedding_adata.obs[\"leiden\"].cat.codes\n",
    "#         time_ed = time.time()\n",
    "#         time_spaceflow = time_ed-time_st\n",
    "\n",
    "#         # cluster_label = pd.read_csv(domain_label, header = None)\n",
    "#         # cluster_SpaceFlow = cluster_label.values.flatten()\n",
    "#         cluster_SpaceFlow = np.array(domains)\n",
    "#         df_out = pd.DataFrame()\n",
    "#         df_out['SpaceFLow'] = np.array(cluster_SpaceFlow[true_labels>=0]).astype(int)\n",
    "#         df_out['ground_truth'] = np.array(true_labels[true_labels>=0]).astype(int)\n",
    "#         out_data = '/data/hoan/spatial_transcriptomics/GraphST/output/'+data_name+'SpaceFlow.csv'\n",
    "#         df_out.to_csv(out_data, index=False)\n",
    "        time_st = time.time()\n",
    "        sf_embedding = genfromtxt(embed_filepath, delimiter='\\t')\n",
    "        sf_embedding_all = np.vstack([sf_embedding_all, sf_embedding])\n",
    "        batch_labels += [batch_index]*int(adata.shape[0])\n",
    "        batch_index += 1\n",
    "        time_ed = time.time()\n",
    "        time_combine_preprocess = time_ed-time_st\n",
    "        # sf_info = [data_name, len(cluster_SpaceFlow), normalized_mutual_info_score(true_labels, cluster_SpaceFlow), time_spaceflow, time_combine_preprocess]\n",
    "        # sf_meta.append(sf_info)\n",
    "combined_labels = np.array(combined_labels)"
   ]
  },
  {
   "cell_type": "code",
   "execution_count": 28,
   "id": "9975a26c-ed19-44d2-9887-133e65b0319f",
   "metadata": {},
   "outputs": [
    {
     "data": {
      "text/plain": [
       "AnnData object with n_obs × n_vars = 5543 × 155\n",
       "    obs: 'cell_class', 'neuron_class', 'domain', 'Region'\n",
       "    var: 'highly_variable', 'highly_variable_rank', 'means', 'variances', 'variances_norm', 'mean', 'std', 'dispersions', 'dispersions_norm'\n",
       "    uns: 'domain_colors', 'hvg', 'log1p', 'pca'\n",
       "    obsm: 'spatial', 'X_pca'\n",
       "    varm: 'PCs'"
      ]
     },
     "execution_count": 28,
     "metadata": {},
     "output_type": "execute_result"
    }
   ],
   "source": [
    "adata"
   ]
  },
  {
   "cell_type": "code",
   "execution_count": 29,
   "id": "12ddd2bf-31b7-4125-bc21-2470ccf72667",
   "metadata": {},
   "outputs": [],
   "source": [
    "# sf_meta_df = pd.DataFrame(sf_meta, columns = ['metaSlice', 'n', 'NMI', 'SpaceFlowRuntime', 'Hamony_prepro_runtime'])\n",
    "# sf_meta_df.to_csv('sf_meta_df_runtime_round1.csv')\n",
    "# sf_meta_df"
   ]
  },
  {
   "cell_type": "code",
   "execution_count": 30,
   "id": "a5f0c265-d49f-4bef-b75c-658f32fa4fec",
   "metadata": {},
   "outputs": [
    {
     "name": "stderr",
     "output_type": "stream",
     "text": [
      "/home/vanhoan310/miniconda3/envs/spaceflow/lib/python3.7/site-packages/ipykernel_launcher.py:3: FutureWarning: X.dtype being converted to np.float32 from float64. In the next version of anndata (0.9) conversion will not be automatic. Pass dtype explicitly to avoid this warning. Pass `AnnData(X, dtype=X.dtype, ...)` to get the future behavour.\n",
      "  This is separate from the ipykernel package so we can avoid doing imports until\n",
      "2025-03-28 03:26:54,744 - harmonypy - INFO - Computing initial centroids with sklearn.KMeans...\n",
      "INFO:harmonypy:Computing initial centroids with sklearn.KMeans...\n",
      "2025-03-28 03:27:06,260 - harmonypy - INFO - sklearn.KMeans initialization complete.\n",
      "INFO:harmonypy:sklearn.KMeans initialization complete.\n",
      "2025-03-28 03:27:06,665 - harmonypy - INFO - Iteration 1 of 10\n",
      "INFO:harmonypy:Iteration 1 of 10\n",
      "2025-03-28 03:27:26,434 - harmonypy - INFO - Iteration 2 of 10\n",
      "INFO:harmonypy:Iteration 2 of 10\n",
      "2025-03-28 03:27:34,877 - harmonypy - INFO - Iteration 3 of 10\n",
      "INFO:harmonypy:Iteration 3 of 10\n",
      "2025-03-28 03:27:40,656 - harmonypy - INFO - Converged after 3 iterations\n",
      "INFO:harmonypy:Converged after 3 iterations\n"
     ]
    }
   ],
   "source": [
    "import scanpy.external as sce\n",
    "time_st = time.time()\n",
    "adata_combine = sc.AnnData(sf_embedding_all)\n",
    "adata_combine.obsm['X_pca'] = sf_embedding_all\n",
    "adata_combine.obs[\"batch\"] = np.array(batch_labels)\n",
    "adata_combine.obs[\"batch\"] = adata_combine.obs[\"batch\"].astype(\"category\")\n",
    "# sc.pp.combat(adata_combine, key=\"batch\", inplace=True)\n",
    "# sce.pp.scanorama_integrate(adata, key=\"batch\")\n",
    "# sc.pp.pca(adata_combine, n_comps=30)\n",
    "sce.pp.harmony_integrate(adata_combine, key=\"batch\")\n",
    "time_ed = time.time()\n",
    "time_harmony = time_ed-time_st"
   ]
  },
  {
   "cell_type": "code",
   "execution_count": 31,
   "id": "52f0a275-62ed-4696-9af5-aedb6e087590",
   "metadata": {},
   "outputs": [],
   "source": [
    "time_st = time.time()\n",
    "sc.pp.neighbors(adata_combine,use_rep='X_pca_harmony')\n",
    "sc.tl.leiden(adata_combine,resolution=0.5)\n",
    "time_ed = time.time()\n",
    "time_leiden = time_ed-time_st"
   ]
  },
  {
   "cell_type": "code",
   "execution_count": 32,
   "id": "5a7ea64f-9aa5-4bde-94ac-ed2b0486c41d",
   "metadata": {},
   "outputs": [],
   "source": [
    "# sf_meta_df['Harmony_combine_Time'] = time_harmony\n",
    "# sf_meta_df['time_leiden'] =time_leiden\n",
    "# sf_meta_df.to_csv('sf_meta_df_runtime.csv')"
   ]
  },
  {
   "cell_type": "code",
   "execution_count": 33,
   "id": "e49514ba-c200-475c-ae36-9b887eea4bee",
   "metadata": {},
   "outputs": [
    {
     "name": "stdout",
     "output_type": "stream",
     "text": [
      "0.332379 0.418154 0.275804\n"
     ]
    }
   ],
   "source": [
    "adata_combine\n",
    "pred_labels = adata_combine.obs['leiden']\n",
    "pred_labels = np.array(pred_labels) #v1\n",
    "print(round(normalized_mutual_info_score(combined_labels[combined_labels>0], pred_labels[combined_labels>0]), 6),\n",
    "     round(homogeneity_score(combined_labels[combined_labels>0], pred_labels[combined_labels>0]), 6),\n",
    "     round(completeness_score(combined_labels[combined_labels>0], pred_labels[combined_labels>0]), 6))\n",
    "# 0.231346 0.262239 0.206965 epoch = 300\n",
    "# 0.248798 0.28346 0.221689 #epoch = 1000\n",
    "# 0.316288 0.381606 0.270063\n",
    "# 0.295028 0.356793 0.251491 # genes = 3000, epoch = 300\n",
    "# 0.332379 0.418154 0.275804 # g = 3000, epoch = 300, preprocessing\n"
   ]
  },
  {
   "cell_type": "code",
   "execution_count": 34,
   "id": "450c6f4e-b61b-44bd-8b32-f3b1121a1dcd",
   "metadata": {
    "jupyter": {
     "source_hidden": true
    },
    "tags": []
   },
   "outputs": [],
   "source": [
    "from sklearn import preprocessing\n",
    "def eval_leiden(adata, resol):\n",
    "    sc.tl.leiden(adata, key_added='louvain', resolution = resol)\n",
    "    louv_labels = np.array(adata.obs['louvain'].tolist())\n",
    "\n",
    "    le = preprocessing.LabelEncoder().fit(louv_labels)\n",
    "    cell_labels_pred  = le.transform(louv_labels)\n",
    "    return int(np.unique(cell_labels_pred).shape[0])\n",
    "\n",
    "def eval_bisect_leiden(adata, minresolution, maxresolution, n_clusters):\n",
    "    M = -1\n",
    "    k1 = n_clusters + 1\n",
    "    k2 = 0\n",
    "    iterations = 0 \n",
    "    #adata = AnnData(X = data)\n",
    "    #sc.pp.neighbors(adata, n_neighbors=20, use_rep='X')\n",
    "\n",
    "    # find minresolution and maxresolution s.t k1 < n_clusters < k2 \n",
    "    while k1 > n_clusters and iterations < 8:\n",
    "        minresolution = minresolution/2 \n",
    "        k1 = eval_leiden(adata, minresolution)\n",
    "        if k1 == n_clusters:\n",
    "            return minresolution\n",
    "        iterations = iterations + 1\n",
    "    while k2 < n_clusters and iterations < 8:\n",
    "        maxresolution = 2*maxresolution\n",
    "        k2 = eval_leiden(adata, maxresolution)\n",
    "        if k2 == n_clusters:\n",
    "            return maxresolution\n",
    "        iterations = iterations + 1\n",
    "\n",
    "    # bisection main\n",
    "    while iterations < 40 and abs(maxresolution - minresolution) > 1e-5:\n",
    "        M = (minresolution + maxresolution)/2 \n",
    "        iterations = iterations + 1\n",
    "        k3 = eval_leiden(adata, M)\n",
    "        if k3 == n_clusters:\n",
    "            return M \n",
    "        elif k3 < n_clusters:\n",
    "            minresolution = M \n",
    "        else:\n",
    "            maxresolution = M\n",
    "\n",
    "    if iterations >= 40:\n",
    "        print(\"bisection algorithm could not find the right resolution\")\n",
    "\n",
    "def leiden_exact_K(X_dimred, n_clusters):\n",
    "    adata = AnnData(X=X_dimred)\n",
    "    sc.pp.neighbors(adata,n_neighbors=10, use_rep='X')\n",
    "\n",
    "    resol = eval_bisect_leiden(adata, 0.5, 1.7, n_clusters)\n",
    "\n",
    "    sc.tl.leiden(adata, key_added='louvain', resolution = resol)\n",
    "    louv_labels = np.array(adata.obs['louvain'].tolist())\n",
    "    le = preprocessing.LabelEncoder().fit(louv_labels)\n",
    "    cell_labels_pred  = le.transform(louv_labels)\n",
    "    return cell_labels_pred"
   ]
  },
  {
   "cell_type": "code",
   "execution_count": null,
   "id": "993d7191-7dec-4602-9598-3258117a8482",
   "metadata": {},
   "outputs": [
    {
     "name": "stderr",
     "output_type": "stream",
     "text": [
      "/home/vanhoan310/miniconda3/envs/spaceflow/lib/python3.7/site-packages/ipykernel_launcher.py:48: FutureWarning: X.dtype being converted to np.float32 from float64. In the next version of anndata (0.9) conversion will not be automatic. Pass dtype explicitly to avoid this warning. Pass `AnnData(X, dtype=X.dtype, ...)` to get the future behavour.\n"
     ]
    }
   ],
   "source": [
    "n_clusters = len(set(combined_labels))\n",
    "pred_exact_labels = leiden_exact_K(adata_combine.obsm['X_pca_harmony'], n_clusters)"
   ]
  },
  {
   "cell_type": "code",
   "execution_count": null,
   "id": "c7ad2da2-54f8-4624-b8bd-513d030763ca",
   "metadata": {},
   "outputs": [],
   "source": [
    "print(round(normalized_mutual_info_score(combined_labels[combined_labels>0], pred_exact_labels[combined_labels>0]), 6),\n",
    "     round(homogeneity_score(combined_labels[combined_labels>0], pred_exact_labels[combined_labels>0]), 6),\n",
    "     round(completeness_score(combined_labels[combined_labels>0], pred_exact_labels[combined_labels>0]), 6))"
   ]
  },
  {
   "cell_type": "code",
   "execution_count": null,
   "id": "546e75d7-4bc4-403e-9cdc-f472fa0aa470",
   "metadata": {},
   "outputs": [],
   "source": [
    "np.unique(pred_labels), n_clusters"
   ]
  },
  {
   "cell_type": "code",
   "execution_count": null,
   "id": "11d6717e-475c-476e-8403-a44bb423abd1",
   "metadata": {},
   "outputs": [],
   "source": []
  }
 ],
 "metadata": {
  "kernelspec": {
   "display_name": "Python SpaceFlow",
   "language": "python",
   "name": "spaceflow"
  },
  "language_info": {
   "codemirror_mode": {
    "name": "ipython",
    "version": 3
   },
   "file_extension": ".py",
   "mimetype": "text/x-python",
   "name": "python",
   "nbconvert_exporter": "python",
   "pygments_lexer": "ipython3",
   "version": "3.7.12"
  }
 },
 "nbformat": 4,
 "nbformat_minor": 5
}
